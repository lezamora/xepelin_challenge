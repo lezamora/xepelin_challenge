{
 "cells": [
  {
   "cell_type": "markdown",
   "id": "7b800c05-8e7b-4831-8103-c2481ab211c3",
   "metadata": {},
   "source": [
    "## Hiperparametrización\n",
    "\n",
    "En circustancias en donde tenga que desarrollarse un modelo productivo es conveniente intentar encontrar los mejorar parámetros para el modelo. Existen muchísimos métodos de optimización para realizar esto. Por ejemplo, algunos de los más populares son:\n",
    "- `Grid Search`\n",
    "- `Random Seach`\n",
    "- `Métodos Bayesianos`\n",
    "- `Algoritmo Genéticos`\n",
    "\n",
    "Dado que el objetivo de problema es otro y además por un tema de tiempos, se decide ignorar este paso por el momento."
   ]
  }
 ],
 "metadata": {
  "kernelspec": {
   "display_name": "Python 3 (ipykernel)",
   "language": "python",
   "name": "python3"
  },
  "language_info": {
   "codemirror_mode": {
    "name": "ipython",
    "version": 3
   },
   "file_extension": ".py",
   "mimetype": "text/x-python",
   "name": "python",
   "nbconvert_exporter": "python",
   "pygments_lexer": "ipython3",
   "version": "3.11.7"
  }
 },
 "nbformat": 4,
 "nbformat_minor": 5
}
