{
 "cells": [
  {
   "attachments": {},
   "cell_type": "markdown",
   "id": "557208d9",
   "metadata": {},
   "source": [
    "### Model Training\n",
    "El objetivo de este notebook es realizar el entrenamiento y el guardado del modelo."
   ]
  },
  {
   "attachments": {},
   "cell_type": "markdown",
   "id": "d15848d9",
   "metadata": {},
   "source": [
    "#### Carga de paquetes"
   ]
  },
  {
   "cell_type": "code",
   "execution_count": 1,
   "id": "8226dc0b",
   "metadata": {},
   "outputs": [],
   "source": [
    "import joblib\n",
    "import numpy as np\n",
    "import pandas as pd\n",
    "from imblearn.over_sampling import RandomOverSampler\n",
    "from imblearn.under_sampling import RandomUnderSampler\n",
    "from sklearn.pipeline import Pipeline\n",
    "from sklearn.preprocessing import StandardScaler\n",
    "from xgboost import XGBClassifier"
   ]
  },
  {
   "cell_type": "markdown",
   "id": "19079de1-1c45-40b1-9d03-0447ddcedba7",
   "metadata": {},
   "source": [
    "#### Configuracion"
   ]
  },
  {
   "cell_type": "code",
   "execution_count": 2,
   "id": "69d81f63",
   "metadata": {},
   "outputs": [],
   "source": [
    "np.random.seed(79)"
   ]
  },
  {
   "attachments": {},
   "cell_type": "markdown",
   "id": "35f1f3ea",
   "metadata": {},
   "source": [
    " #### Helpers"
   ]
  },
  {
   "attachments": {},
   "cell_type": "markdown",
   "id": "1c683ec9",
   "metadata": {},
   "source": [
    "#### Cargamos los datos"
   ]
  },
  {
   "cell_type": "code",
   "execution_count": 3,
   "id": "42a0286a",
   "metadata": {},
   "outputs": [
    {
     "data": {
      "text/plain": [
       "(23073, 21)"
      ]
     },
     "execution_count": 3,
     "metadata": {},
     "output_type": "execute_result"
    }
   ],
   "source": [
    "# Importamos el dataset de features\n",
    "df = pd.read_csv(\"../data/processed/dataset_training_v0.csv\")\n",
    "df.shape"
   ]
  },
  {
   "cell_type": "code",
   "execution_count": 9,
   "id": "8dc24943-e714-487e-97e4-33c3a7ae6409",
   "metadata": {},
   "outputs": [
    {
     "data": {
      "text/plain": [
       "{'particion': 8,\n",
       " 'split': 'train',\n",
       " 'al_promedio_general': 4.75,\n",
       " 'al_tasa_aprobacion': 0.5,\n",
       " 'al_promedio_parcial': 6.5,\n",
       " 'al_promedio_score_tp': 84.8,\n",
       " 'al_promedio_tiempo_sub_tp': 12.5,\n",
       " 'al_tasa_recuperadas': 0.0,\n",
       " 'al_n_materias_periodo': 4,\n",
       " 'cn_promedio_general': 6.15,\n",
       " 'cn_tasa_aprobacion': 0.85,\n",
       " 'cn_promedio_parcial': 6.690476190476191,\n",
       " 'cn_promedio_score_tp': 82.13597122302158,\n",
       " 'cn_promedio_tiempo_sub_tp': 11.244604316546765,\n",
       " 'cn_tasa_recuperadas': 0.15,\n",
       " 'promedio_parcial': 0.0,\n",
       " 'promedio_recuperatorio': 0.0,\n",
       " 'promedio_integrador': 0.0,\n",
       " 'promedio_tareas_tp': 0.0,\n",
       " 'promedio_tiempo_sub_tp': 0.0,\n",
       " 'aprobo': 0}"
      ]
     },
     "execution_count": 9,
     "metadata": {},
     "output_type": "execute_result"
    }
   ],
   "source": [
    "df.loc[df[\"aprobo\"] == 0].iloc[0].to_dict()"
   ]
  },
  {
   "cell_type": "code",
   "execution_count": 5,
   "id": "db95a480-dec7-4bfe-9ab9-3a1be7a6f590",
   "metadata": {},
   "outputs": [
    {
     "data": {
      "text/plain": [
       "{'particion': 24,\n",
       " 'split': 'train',\n",
       " 'al_promedio_general': 6.833333333333333,\n",
       " 'al_tasa_aprobacion': 1.0,\n",
       " 'al_promedio_parcial': 6.333333333333333,\n",
       " 'al_promedio_score_tp': 74.45081300813008,\n",
       " 'al_promedio_tiempo_sub_tp': 21.634146341463413,\n",
       " 'al_tasa_recuperadas': 0.1666666666666666,\n",
       " 'al_n_materias_periodo': 6,\n",
       " 'cn_promedio_general': 8.0,\n",
       " 'cn_tasa_aprobacion': 1.0,\n",
       " 'cn_promedio_parcial': 8.5,\n",
       " 'cn_promedio_score_tp': 79.43854166666667,\n",
       " 'cn_promedio_tiempo_sub_tp': 26.0,\n",
       " 'cn_tasa_recuperadas': 0.0,\n",
       " 'promedio_parcial': 0.0,\n",
       " 'promedio_recuperatorio': 0.0,\n",
       " 'promedio_integrador': 0.0,\n",
       " 'promedio_tareas_tp': 81.76666666666667,\n",
       " 'promedio_tiempo_sub_tp': 33.0,\n",
       " 'aprobo': 1}"
      ]
     },
     "execution_count": 5,
     "metadata": {},
     "output_type": "execute_result"
    }
   ],
   "source": [
    "df.iloc[0].to_dict()"
   ]
  },
  {
   "attachments": {},
   "cell_type": "markdown",
   "id": "6e882d82",
   "metadata": {},
   "source": [
    "#### División del conjunto de entrenamiento"
   ]
  },
  {
   "cell_type": "code",
   "execution_count": 6,
   "id": "6832afef",
   "metadata": {},
   "outputs": [],
   "source": [
    "# Especificar las características (X) y el objetivo (y)\n",
    "x_train = df.loc[df[\"split\"] == \"train\"].drop([\"aprobo\", \"split\"], axis=1)\n",
    "y_train = df.loc[df[\"split\"] == \"train\"][\"aprobo\"]"
   ]
  },
  {
   "cell_type": "code",
   "execution_count": null,
   "id": "a1d03206",
   "metadata": {},
   "outputs": [],
   "source": [
    "# Creamos un diccionario donde guardamos todo el conjunto de datos\n",
    "datasets = {\n",
    "    \"train\": (x_train, y_train),\n",
    "}"
   ]
  },
  {
   "attachments": {},
   "cell_type": "markdown",
   "id": "219b2a0f",
   "metadata": {},
   "source": [
    "#### Evaluamos distintos modelos"
   ]
  },
  {
   "attachments": {},
   "cell_type": "markdown",
   "id": "e591ae10",
   "metadata": {},
   "source": [
    "##### Funciones de entrenamiento y evaluación"
   ]
  },
  {
   "cell_type": "code",
   "execution_count": null,
   "id": "b512009a",
   "metadata": {},
   "outputs": [],
   "source": [
    "def train_model(model: list, datasets: dict, run_params: dict = None):\n",
    "    \"\"\"\n",
    "    Runs training for model.\n",
    "\n",
    "    Args:\n",
    "        model (list): Model class and Model parameters.\n",
    "        datasets (dict): A dictionary containing the datasets for training.\n",
    "        run_params (dict): Additional parameters for the experiment runs (default: None).\n",
    "\n",
    "    Returns:\n",
    "        None\n",
    "    \"\"\"\n",
    "    x_train, y_train = datasets[\"train\"]\n",
    "\n",
    "    # Initialize the training\n",
    "    model_name = model.__name__\n",
    "    print(\"=\" * 78)\n",
    "    print(f\"Starting experiment for model: {model_name}.\")\n",
    "    print(\"=\" * 78)\n",
    "\n",
    "    try:\n",
    "        x_train_resample, y_train_resample = x_train.copy(), y_train.copy()\n",
    "        print(\"Training the model...\")\n",
    "\n",
    "        # Apply sampling techniques if necessary\n",
    "        if run_params[\"over_sampler\"] == \"random_over_sampler\":\n",
    "            over_sampler = RandomOverSampler(\n",
    "                sampling_strategy=run_params[\"over_sampling_strategy\"]\n",
    "            )\n",
    "            x_train_resample, y_train_resample = over_sampler.fit_resample(\n",
    "                x_train_resample, y_train_resample\n",
    "            )\n",
    "\n",
    "        if run_params[\"under_sampler\"] == \"random_under_sampler\":\n",
    "            under_sampler = RandomUnderSampler(\n",
    "                sampling_strategy=run_params[\"under_sampling_strategy\"]\n",
    "            )\n",
    "            x_train_resample, y_train_resample = under_sampler.fit_resample(\n",
    "                x_train_resample, y_train_resample\n",
    "            )\n",
    "\n",
    "        steps = [(\"scaler\", StandardScaler()), (\"model\", model())]\n",
    "        pipeline = Pipeline(steps=steps)\n",
    "\n",
    "        # Train the model\n",
    "        pipeline.fit(x_train_resample, y_train_resample)\n",
    "\n",
    "        return pipeline\n",
    "\n",
    "    except Exception as e:\n",
    "        # Handle any exception and log the error\n",
    "        print(e)\n",
    "\n",
    "    finally:\n",
    "        print(\"Training completed.\")"
   ]
  },
  {
   "attachments": {},
   "cell_type": "markdown",
   "id": "7f7d74f2",
   "metadata": {},
   "source": [
    "##### Configuración de los parámetros de balanceo de datos"
   ]
  },
  {
   "cell_type": "code",
   "execution_count": null,
   "id": "5e2f432f",
   "metadata": {},
   "outputs": [],
   "source": [
    "# Para remover el sampleo remplazar los string con None\n",
    "params = {\n",
    "    \"over_sampler\": \"random_over_sampler\",\n",
    "    \"over_sampling_strategy\": 0.1,\n",
    "    \"under_sampler\": \"random_under_sampler\",\n",
    "    \"under_sampling_strategy\": 0.5,\n",
    "    \"threshold\": 0.9998,\n",
    "}"
   ]
  },
  {
   "attachments": {},
   "cell_type": "markdown",
   "id": "8e7fa56e",
   "metadata": {},
   "source": [
    "##### Entrenamos el modelo"
   ]
  },
  {
   "cell_type": "code",
   "execution_count": null,
   "id": "bc819b6f",
   "metadata": {},
   "outputs": [],
   "source": [
    "model = train_model(XGBClassifier, datasets, params)"
   ]
  },
  {
   "cell_type": "markdown",
   "id": "eeb0f871-02ea-43f2-a455-9b2b422cd3ba",
   "metadata": {},
   "source": [
    "#### Guardamos el modelo"
   ]
  },
  {
   "cell_type": "code",
   "execution_count": null,
   "id": "2f0579b8-cdf1-419d-898b-21a09901a6c7",
   "metadata": {},
   "outputs": [],
   "source": [
    "joblib.dump(model, \"../models/model.pkl\")"
   ]
  }
 ],
 "metadata": {
  "kernelspec": {
   "display_name": "Python 3 (ipykernel)",
   "language": "python",
   "name": "python3"
  },
  "language_info": {
   "codemirror_mode": {
    "name": "ipython",
    "version": 3
   },
   "file_extension": ".py",
   "mimetype": "text/x-python",
   "name": "python",
   "nbconvert_exporter": "python",
   "pygments_lexer": "ipython3",
   "version": "3.11.6"
  },
  "toc": {
   "base_numbering": 1,
   "nav_menu": {},
   "number_sections": true,
   "sideBar": true,
   "skip_h1_title": false,
   "title_cell": "Table of Contents",
   "title_sidebar": "Contents",
   "toc_cell": false,
   "toc_position": {},
   "toc_section_display": true,
   "toc_window_display": false
  },
  "vscode": {
   "interpreter": {
    "hash": "ec62c15e21ff9b4efb5681b3a19620d22495466ee9befff07410966873b5d8fb"
   }
  }
 },
 "nbformat": 4,
 "nbformat_minor": 5
}
