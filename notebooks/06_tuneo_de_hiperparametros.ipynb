{
 "cells": [
  {
   "cell_type": "markdown",
   "id": "8a33f19c-7410-4f19-9f12-a8907ccf040c",
   "metadata": {},
   "source": [
    "## Tuneo de hiperparámetros\n",
    "\n",
    "El objetivo de este notebook es buscar el mejor conjunto de hiperparámetros para el modelo seleccionado."
   ]
  },
  {
   "cell_type": "markdown",
   "id": "e0ee62ec-01d6-4bff-89df-808e2b581dbe",
   "metadata": {},
   "source": [
    "### Import de los paquetes"
   ]
  },
  {
   "cell_type": "code",
   "execution_count": 1,
   "id": "a9a4d20a-d430-436f-bca2-46bdc63e9ae1",
   "metadata": {},
   "outputs": [],
   "source": [
    "import matplotlib.pyplot as plt\n",
    "import numpy as np\n",
    "import optuna\n",
    "import pandas as pd\n",
    "from optuna.visualization import plot_optimization_history\n",
    "from sklearn.ensemble import RandomForestClassifier\n",
    "from sklearn.metrics import (\n",
    "    accuracy_score,\n",
    "    classification_report,\n",
    "    confusion_matrix,\n",
    "    precision_recall_fscore_support,\n",
    "    roc_auc_score,\n",
    "    roc_curve,\n",
    ")\n",
    "from sklearn.model_selection import train_test_split"
   ]
  },
  {
   "cell_type": "markdown",
   "id": "b0b97436-4f15-41d4-9828-5464d08ca3ea",
   "metadata": {},
   "source": [
    "### Configuraciones"
   ]
  },
  {
   "cell_type": "code",
   "execution_count": 2,
   "id": "b54c76e0",
   "metadata": {},
   "outputs": [],
   "source": [
    "# Variable para setear semilla\n",
    "SEED = 0"
   ]
  },
  {
   "cell_type": "code",
   "execution_count": 3,
   "id": "0195329d-5564-4e96-aab6-1bc98397b02f",
   "metadata": {},
   "outputs": [],
   "source": [
    "np.random.seed(SEED)\n",
    "optuna.logging.set_verbosity(optuna.logging.WARNING)"
   ]
  },
  {
   "cell_type": "code",
   "execution_count": 4,
   "id": "418f9778-3404-4cc4-85fc-819a4a865284",
   "metadata": {},
   "outputs": [],
   "source": [
    "pd.set_option(\"display.max_columns\", None)"
   ]
  },
  {
   "cell_type": "markdown",
   "id": "edef00c0-1b8b-4017-99b7-f854757df104",
   "metadata": {},
   "source": [
    "### Funciones auxiliares"
   ]
  },
  {
   "cell_type": "markdown",
   "id": "f143aff8-980f-46f1-b6b6-bfa983382e4d",
   "metadata": {},
   "source": [
    "#### Graficos"
   ]
  },
  {
   "cell_type": "code",
   "execution_count": 5,
   "id": "0340564e-b2e0-4bef-bca7-855e4868db39",
   "metadata": {},
   "outputs": [],
   "source": [
    "def plot_confusion_matrix(cm: np.ndarray, classes: list, ax=None):\n",
    "    \"\"\"\n",
    "    Grafica una matriz de confusión.\n",
    "\n",
    "    Args:\n",
    "        cm (np.ndarray): La matriz de confusión.\n",
    "        classes (list): Las etiquetas de clase.\n",
    "        ax: El objeto de eje para dibujar el gráfico (por defecto: None).\n",
    "\n",
    "    Returns:\n",
    "        None\n",
    "    \"\"\"\n",
    "    if ax is None:\n",
    "        ax = plt.gca()  # Obtener el eje actual si no se proporciona uno\n",
    "\n",
    "    im = ax.imshow(cm, interpolation=\"nearest\", cmap=plt.cm.Blues)\n",
    "    ax.set_title(\"Matriz de Confusión\")\n",
    "    plt.colorbar(im, ax=ax)\n",
    "    tick_marks = np.arange(len(classes))\n",
    "    ax.set_xticks(tick_marks)\n",
    "    ax.set_xticklabels(classes, rotation=45)\n",
    "    ax.set_yticks(tick_marks)\n",
    "    ax.set_yticklabels(classes)\n",
    "\n",
    "    fmt = \".2f\"\n",
    "    thresh = cm.max() / 2.0\n",
    "    for i, j in np.ndindex(cm.shape):\n",
    "        ax.text(\n",
    "            j,\n",
    "            i,\n",
    "            format(cm[i, j], fmt),\n",
    "            horizontalalignment=\"center\",\n",
    "            color=\"white\" if cm[i, j] > thresh else \"black\",\n",
    "        )\n",
    "\n",
    "    ax.set_ylabel(\"Etiqueta Real\")\n",
    "    ax.set_xlabel(\"Etiqueta Predicha\")"
   ]
  },
  {
   "cell_type": "code",
   "execution_count": 6,
   "id": "760cd93f-2ae0-41a8-bdbd-fca95df3dc87",
   "metadata": {},
   "outputs": [],
   "source": [
    "def plot_roc_curve(y_test: np.ndarray, y_proba: np.ndarray, ax=None):\n",
    "    \"\"\"\n",
    "    Grafica la curva ROC.\n",
    "\n",
    "    Args:\n",
    "        y_test (np.ndarray): Las etiquetas reales.\n",
    "        y_proba (np.ndarray): Las probabilidades predichas.\n",
    "        ax: El objeto de eje para dibujar el gráfico (por defecto: None).\n",
    "\n",
    "    Returns:\n",
    "        None\n",
    "    \"\"\"\n",
    "    if ax is None:\n",
    "        ax = plt.gca()  # Obtiene el eje actual si no se proporciona uno\n",
    "\n",
    "    fpr, tpr, _ = roc_curve(y_test, y_proba)\n",
    "    roc_auc = roc_auc_score(y_test, y_proba)\n",
    "\n",
    "    ax.plot(fpr, tpr, label=\"Curva ROC (AUC = %0.2f)\" % roc_auc)\n",
    "    ax.plot([0, 1], [0, 1], \"k--\")\n",
    "    ax.set_xlim([0.0, 1.0])\n",
    "    ax.set_ylim([0.0, 1.05])\n",
    "    ax.set_xlabel(\"Tasa de Falsos Positivos\")\n",
    "    ax.set_ylabel(\"Tasa de Verdaderos Positivos\")\n",
    "    ax.set_title(\"Curva ROC\")\n",
    "    ax.legend(loc=\"lower right\")"
   ]
  },
  {
   "cell_type": "markdown",
   "id": "f12a7c4d-cef0-47e0-8b45-17d81f34ab6a",
   "metadata": {},
   "source": [
    "#### Generación de métricas"
   ]
  },
  {
   "cell_type": "code",
   "execution_count": 7,
   "id": "d53aa3c4-8a00-4151-b0a1-1e2b7c6d2bba",
   "metadata": {},
   "outputs": [],
   "source": [
    "def track_metrics(\n",
    "    pipeline,\n",
    "    x: np.ndarray,\n",
    "    y: np.ndarray,\n",
    "    set_name: str = \"test\",\n",
    "    threshold: float = 0.5,\n",
    "):\n",
    "    \"\"\"\n",
    "    Registra métricas para un pipeline de clasificación.\n",
    "\n",
    "    Args:\n",
    "        pipeline: El pipeline de clasificación.\n",
    "        x (np.ndarray): Las características de entrada.\n",
    "        y (np.ndarray): Las etiquetas reales.\n",
    "        set_name (str): El nombre del conjunto de datos (por defecto: \"test\").\n",
    "        threshold (float): El umbral de predicción (por defecto: 0.5).\n",
    "\n",
    "    Returns:\n",
    "        None\n",
    "    \"\"\"\n",
    "    # Predecir probabilidades\n",
    "    y_proba = pipeline.predict_proba(x)[:, 1]\n",
    "\n",
    "    # Aplicar el umbral\n",
    "    y_pred = (y_proba >= threshold).astype(int)\n",
    "\n",
    "    # Calcular la precisión\n",
    "    accuracy = accuracy_score(y, y_pred)\n",
    "\n",
    "    # Calcular métricas\n",
    "    cm = confusion_matrix(y, y_pred)\n",
    "\n",
    "    # Imprimir el informe de clasificación\n",
    "    report = classification_report(y, y_pred, target_names=[\"Negativo\", \"Positivo\"])\n",
    "    print(f\"Informe de Clasificación:\\n{report}\")\n",
    "\n",
    "    # Calcular precision, recall, f1-score y support para cada clase utilizando output_dict\n",
    "    metrics_dict = precision_recall_fscore_support(\n",
    "        y, y_pred, average=None, labels=[0, 1]\n",
    "    )\n",
    "\n",
    "    # Crear una figura con dos subgráficos en la misma fila\n",
    "    fig, axes = plt.subplots(1, 2, figsize=(12, 3))\n",
    "\n",
    "    # Graficar la matriz de confusión en el primer subgráfico\n",
    "    plot_confusion_matrix(cm, classes=[\"Negativo\", \"Positivo\"], ax=axes[0])\n",
    "    axes[0].set_title(\"Matriz de Confusión\")\n",
    "\n",
    "    # Graficar la curva ROC en el segundo subgráfico\n",
    "    plot_roc_curve(y, y_proba, ax=axes[1])\n",
    "    axes[1].set_title(\"Curva ROC\")\n",
    "    plt.show()\n",
    "\n",
    "    # Devolver métricas como un diccionario\n",
    "    metrics = {\n",
    "        f\"{set_name}_Precisión (Negativo)\": round(metrics_dict[0][0], 2),\n",
    "        f\"{set_name}_Precisión (Positivo)\": round(metrics_dict[0][1], 2),\n",
    "        f\"{set_name}_Recall (Negativo)\": round(metrics_dict[1][0], 2),\n",
    "        f\"{set_name}_Recall (Positivo)\": round(metrics_dict[1][1], 2),\n",
    "        f\"{set_name}_F1-Score (Negativo)\": round(metrics_dict[2][0], 2),\n",
    "        f\"{set_name}_F1-Score (Positivo)\": round(metrics_dict[2][1], 2),\n",
    "        f\"{set_name}_Exactitud\": round(accuracy, 2),\n",
    "    }\n",
    "\n",
    "    return metrics"
   ]
  },
  {
   "cell_type": "markdown",
   "id": "f266fb74-c42c-4394-8297-b799f5d67f2c",
   "metadata": {},
   "source": [
    "### Carga de datos"
   ]
  },
  {
   "cell_type": "code",
   "execution_count": 8,
   "id": "cd9d03c5-708f-4614-9407-199a0f592273",
   "metadata": {},
   "outputs": [
    {
     "data": {
      "text/plain": [
       "(2962, 18)"
      ]
     },
     "execution_count": 8,
     "metadata": {},
     "output_type": "execute_result"
    }
   ],
   "source": [
    "df = pd.read_csv(\"../data/processed/dataset_training_v0.csv\")\n",
    "df.shape"
   ]
  },
  {
   "cell_type": "code",
   "execution_count": 9,
   "id": "825de244-7759-487d-be7c-8b814bfbf424",
   "metadata": {},
   "outputs": [
    {
     "data": {
      "text/html": [
       "<div>\n",
       "<style scoped>\n",
       "    .dataframe tbody tr th:only-of-type {\n",
       "        vertical-align: middle;\n",
       "    }\n",
       "\n",
       "    .dataframe tbody tr th {\n",
       "        vertical-align: top;\n",
       "    }\n",
       "\n",
       "    .dataframe thead th {\n",
       "        text-align: right;\n",
       "    }\n",
       "</style>\n",
       "<table border=\"1\" class=\"dataframe\">\n",
       "  <thead>\n",
       "    <tr style=\"text-align: right;\">\n",
       "      <th></th>\n",
       "      <th>invoiceId</th>\n",
       "      <th>businessId</th>\n",
       "      <th>payerId</th>\n",
       "      <th>relationDays</th>\n",
       "      <th>relationRecurrence</th>\n",
       "      <th>issuerCancelledInvoices</th>\n",
       "      <th>diasActividadPagador</th>\n",
       "      <th>facturaMorosa</th>\n",
       "      <th>montoFacturaWsz</th>\n",
       "      <th>issuerInvoicesAmountWsz</th>\n",
       "      <th>Clients12MonthsWsz</th>\n",
       "      <th>payerAmountFacturas</th>\n",
       "      <th>payerRatioMorosidad</th>\n",
       "      <th>payerAvgAmountFacturas</th>\n",
       "      <th>payerAvgDiasMora</th>\n",
       "      <th>payerDesvAmount</th>\n",
       "      <th>businessRatioMororsidad</th>\n",
       "      <th>businessAvgDiasMora</th>\n",
       "    </tr>\n",
       "  </thead>\n",
       "  <tbody>\n",
       "    <tr>\n",
       "      <th>0</th>\n",
       "      <td>11654</td>\n",
       "      <td>5</td>\n",
       "      <td>5015</td>\n",
       "      <td>428.0</td>\n",
       "      <td>10.166667</td>\n",
       "      <td>0.021942</td>\n",
       "      <td>2632.0</td>\n",
       "      <td>1</td>\n",
       "      <td>4713103.0</td>\n",
       "      <td>187036960.0</td>\n",
       "      <td>4.0</td>\n",
       "      <td>181609529.0</td>\n",
       "      <td>0.400000</td>\n",
       "      <td>4035767</td>\n",
       "      <td>2.266667</td>\n",
       "      <td>677336.0</td>\n",
       "      <td>0.000000</td>\n",
       "      <td>0.000000</td>\n",
       "    </tr>\n",
       "    <tr>\n",
       "      <th>1</th>\n",
       "      <td>13430</td>\n",
       "      <td>5</td>\n",
       "      <td>5015</td>\n",
       "      <td>455.0</td>\n",
       "      <td>9.891304</td>\n",
       "      <td>0.020079</td>\n",
       "      <td>2659.0</td>\n",
       "      <td>0</td>\n",
       "      <td>7879645.0</td>\n",
       "      <td>231623853.0</td>\n",
       "      <td>4.0</td>\n",
       "      <td>210861531.0</td>\n",
       "      <td>0.423077</td>\n",
       "      <td>4055029</td>\n",
       "      <td>2.865385</td>\n",
       "      <td>3824616.0</td>\n",
       "      <td>1.000000</td>\n",
       "      <td>18.000000</td>\n",
       "    </tr>\n",
       "    <tr>\n",
       "      <th>2</th>\n",
       "      <td>15957</td>\n",
       "      <td>5</td>\n",
       "      <td>5015</td>\n",
       "      <td>493.0</td>\n",
       "      <td>9.264151</td>\n",
       "      <td>0.016629</td>\n",
       "      <td>2697.0</td>\n",
       "      <td>1</td>\n",
       "      <td>1190417.0</td>\n",
       "      <td>272695026.0</td>\n",
       "      <td>4.0</td>\n",
       "      <td>261505599.0</td>\n",
       "      <td>0.348485</td>\n",
       "      <td>3962206</td>\n",
       "      <td>6.348485</td>\n",
       "      <td>-2771789.0</td>\n",
       "      <td>0.500000</td>\n",
       "      <td>6.000000</td>\n",
       "    </tr>\n",
       "    <tr>\n",
       "      <th>3</th>\n",
       "      <td>18135</td>\n",
       "      <td>5</td>\n",
       "      <td>5015</td>\n",
       "      <td>542.0</td>\n",
       "      <td>9.016667</td>\n",
       "      <td>0.014322</td>\n",
       "      <td>2746.0</td>\n",
       "      <td>0</td>\n",
       "      <td>189924.0</td>\n",
       "      <td>321318559.0</td>\n",
       "      <td>3.0</td>\n",
       "      <td>278112178.0</td>\n",
       "      <td>0.375000</td>\n",
       "      <td>3862669</td>\n",
       "      <td>7.041667</td>\n",
       "      <td>-3672745.0</td>\n",
       "      <td>0.666667</td>\n",
       "      <td>4.333333</td>\n",
       "    </tr>\n",
       "    <tr>\n",
       "      <th>4</th>\n",
       "      <td>19438</td>\n",
       "      <td>5</td>\n",
       "      <td>5015</td>\n",
       "      <td>562.0</td>\n",
       "      <td>8.920635</td>\n",
       "      <td>0.013314</td>\n",
       "      <td>2766.0</td>\n",
       "      <td>0</td>\n",
       "      <td>3755846.0</td>\n",
       "      <td>346234215.0</td>\n",
       "      <td>3.0</td>\n",
       "      <td>297456818.0</td>\n",
       "      <td>0.376623</td>\n",
       "      <td>3863075</td>\n",
       "      <td>6.181818</td>\n",
       "      <td>-107229.0</td>\n",
       "      <td>0.500000</td>\n",
       "      <td>3.250000</td>\n",
       "    </tr>\n",
       "  </tbody>\n",
       "</table>\n",
       "</div>"
      ],
      "text/plain": [
       "   invoiceId  businessId  payerId  relationDays  relationRecurrence  \\\n",
       "0      11654           5     5015         428.0           10.166667   \n",
       "1      13430           5     5015         455.0            9.891304   \n",
       "2      15957           5     5015         493.0            9.264151   \n",
       "3      18135           5     5015         542.0            9.016667   \n",
       "4      19438           5     5015         562.0            8.920635   \n",
       "\n",
       "   issuerCancelledInvoices  diasActividadPagador  facturaMorosa  \\\n",
       "0                 0.021942                2632.0              1   \n",
       "1                 0.020079                2659.0              0   \n",
       "2                 0.016629                2697.0              1   \n",
       "3                 0.014322                2746.0              0   \n",
       "4                 0.013314                2766.0              0   \n",
       "\n",
       "   montoFacturaWsz  issuerInvoicesAmountWsz  Clients12MonthsWsz  \\\n",
       "0        4713103.0              187036960.0                 4.0   \n",
       "1        7879645.0              231623853.0                 4.0   \n",
       "2        1190417.0              272695026.0                 4.0   \n",
       "3         189924.0              321318559.0                 3.0   \n",
       "4        3755846.0              346234215.0                 3.0   \n",
       "\n",
       "   payerAmountFacturas  payerRatioMorosidad  payerAvgAmountFacturas  \\\n",
       "0          181609529.0             0.400000                 4035767   \n",
       "1          210861531.0             0.423077                 4055029   \n",
       "2          261505599.0             0.348485                 3962206   \n",
       "3          278112178.0             0.375000                 3862669   \n",
       "4          297456818.0             0.376623                 3863075   \n",
       "\n",
       "   payerAvgDiasMora  payerDesvAmount  businessRatioMororsidad  \\\n",
       "0          2.266667         677336.0                 0.000000   \n",
       "1          2.865385        3824616.0                 1.000000   \n",
       "2          6.348485       -2771789.0                 0.500000   \n",
       "3          7.041667       -3672745.0                 0.666667   \n",
       "4          6.181818        -107229.0                 0.500000   \n",
       "\n",
       "   businessAvgDiasMora  \n",
       "0             0.000000  \n",
       "1            18.000000  \n",
       "2             6.000000  \n",
       "3             4.333333  \n",
       "4             3.250000  "
      ]
     },
     "execution_count": 9,
     "metadata": {},
     "output_type": "execute_result"
    }
   ],
   "source": [
    "df.head()"
   ]
  },
  {
   "cell_type": "markdown",
   "id": "6a816901-10e1-4f0f-a421-79e440bb9c76",
   "metadata": {},
   "source": [
    "### Split del conjunto de entrenamiento\n",
    "\n",
    "La estrategia utilizada para evaluar el modelo es separar los datos en train, test y validación:\n",
    "- El conjunto de **train** será el **80%** de los datos con los que contamos y será utilizado para entrenar el modelo.\n",
    "- El conjunto de **test**, será utilizado para evaluar la performance del modelo. Representará un **10%** de los datos y será seleccionado aleatoriamente.\n",
    "- Por último, el conjunto de **validación**, que será utilizado para el tuneo de los hiperparámetros, representará aproximadamente el **10%** de los datos. Dado que este conjunto no tiene que ser visto por el modelo desde ningún lugar, seleccionaremos las últimas facturas emitidas como emulando la utilización del modelo."
   ]
  },
  {
   "cell_type": "code",
   "execution_count": 10,
   "id": "eab9181f-8305-4710-ab30-7e0310064f1b",
   "metadata": {},
   "outputs": [
    {
     "name": "stdout",
     "output_type": "stream",
     "text": [
      "Formas de los conjuntos:\n",
      "Entrenamiento: (2440, 14) (2440,)\n",
      "Prueba: (272, 14) (272,)\n",
      "Validación: (250, 14) (250,)\n",
      "Forma de x_train: (2440, 14)\n",
      "Forma de x_val: (250, 14)\n",
      "Forma de x_test: (272, 14)\n",
      "Forma de y_train: (2440,)\n",
      "Forma de y_val: (250,)\n",
      "Forma de y_test: (272,)\n"
     ]
    }
   ],
   "source": [
    "# Ordenamos los datos\n",
    "df = df.sort_values(\"invoiceId\").copy()\n",
    "df.drop(columns=[\"invoiceId\", \"businessId\", \"payerId\"], inplace=True)\n",
    "\n",
    "# Especificar las características (X) y el objetivo (y)\n",
    "x = df.drop(columns=[\"facturaMorosa\"], axis=1)\n",
    "y = df[\"facturaMorosa\"]\n",
    "\n",
    "# Obtener las últimas 150 filas para validación\n",
    "x_val = x.iloc[-250:]\n",
    "y_val = y.iloc[-250:]\n",
    "\n",
    "# Eliminar las últimas 150 filas de x e y\n",
    "x = x.iloc[:-250]\n",
    "y = y.iloc[:-250]\n",
    "\n",
    "# Dividir el conjunto en entrenamiento y prueba\n",
    "x_train, x_test, y_train, y_test = train_test_split(\n",
    "    x, y, test_size=0.1, random_state=SEED\n",
    ")\n",
    "\n",
    "\n",
    "# Verificamos las formas de los conjuntos resultantes\n",
    "print(\"Formas de los conjuntos:\")\n",
    "print(\"Entrenamiento:\", x_train.shape, y_train.shape)\n",
    "print(\"Prueba:\", x_test.shape, y_test.shape)\n",
    "print(\"Validación:\", x_val.shape, y_val.shape)\n",
    "\n",
    "\n",
    "# Mostrar las formas de las particiones\n",
    "print(\"Forma de x_train:\", x_train.shape)\n",
    "print(\"Forma de x_val:\", x_val.shape)\n",
    "print(\"Forma de x_test:\", x_test.shape)\n",
    "print(\"Forma de y_train:\", y_train.shape)\n",
    "print(\"Forma de y_val:\", y_val.shape)\n",
    "print(\"Forma de y_test:\", y_test.shape)"
   ]
  },
  {
   "cell_type": "markdown",
   "id": "a0536693-e1ac-4f47-be3f-01819daab4b1",
   "metadata": {},
   "source": [
    "### Tuning"
   ]
  },
  {
   "cell_type": "markdown",
   "id": "c0701a90",
   "metadata": {},
   "source": [
    "#### Definimos la funcion objetivos y corremos diferentes trials"
   ]
  },
  {
   "cell_type": "code",
   "execution_count": 11,
   "id": "7322ad43-44e6-4175-97fa-51b48112c77e",
   "metadata": {},
   "outputs": [
    {
     "data": {
      "application/vnd.jupyter.widget-view+json": {
       "model_id": "19aae704785743159674bbde836ea614",
       "version_major": 2,
       "version_minor": 0
      },
      "text/plain": [
       "  0%|          | 0/100 [00:00<?, ?it/s]"
      ]
     },
     "metadata": {},
     "output_type": "display_data"
    },
    {
     "name": "stdout",
     "output_type": "stream",
     "text": [
      "Mejores hiperparámetros: {'n_estimators': 211, 'max_depth': 70, 'min_samples_split': 0.11391573663562704, 'min_samples_leaf': 0.1015248385855935, 'max_features': 0.505236972643752, 'bootstrap': False}\n"
     ]
    }
   ],
   "source": [
    "def objective(trial):\n",
    "    params = {\n",
    "        \"n_estimators\": trial.suggest_int(\"n_estimators\", 100, 300),\n",
    "        \"max_depth\": trial.suggest_int(\"max_depth\", 6, 100),\n",
    "        \"min_samples_split\": trial.suggest_float(\"min_samples_split\", 0.1, 1.0),\n",
    "        \"min_samples_leaf\": trial.suggest_float(\"min_samples_leaf\", 0.1, 0.5),\n",
    "        \"max_features\": trial.suggest_float(\"max_features\", 0.1, 1.0),\n",
    "        \"bootstrap\": trial.suggest_categorical(\"bootstrap\", [True, False]),\n",
    "    }\n",
    "\n",
    "    model = RandomForestClassifier(**params)\n",
    "    model.fit(x_train, y_train)\n",
    "\n",
    "    y_pred_prob = model.predict_proba(x_test)[:, 1]\n",
    "    auc_score = roc_auc_score(y_test, y_pred_prob)\n",
    "\n",
    "    return auc_score\n",
    "\n",
    "\n",
    "study = optuna.create_study(\n",
    "    direction=\"maximize\"\n",
    ")  # 'maximize' si estamos buscando maximizar el AUC-ROC\n",
    "study.optimize(objective, n_trials=100, show_progress_bar=True)\n",
    "\n",
    "# Obtener los mejores hiperparámetros encontrados\n",
    "best_params = study.best_params\n",
    "print(\"Mejores hiperparámetros:\", best_params)"
   ]
  },
  {
   "cell_type": "markdown",
   "id": "0505e19f",
   "metadata": {},
   "source": [
    "#### Visualización de los trials"
   ]
  },
  {
   "cell_type": "code",
   "execution_count": 12,
   "id": "e1f9ed06",
   "metadata": {},
   "outputs": [
    {
     "data": {
      "application/vnd.plotly.v1+json": {
       "config": {
        "plotlyServerURL": "https://plot.ly"
       },
       "data": [
        {
         "mode": "markers",
         "name": "Objective Value",
         "type": "scatter",
         "x": [
          0,
          1,
          2,
          3,
          4,
          5,
          6,
          7,
          8,
          9,
          10,
          11,
          12,
          13,
          14,
          15,
          16,
          17,
          18,
          19,
          20,
          21,
          22,
          23,
          24,
          25,
          26,
          27,
          28,
          29,
          30,
          31,
          32,
          33,
          34,
          35,
          36,
          37,
          38,
          39,
          40,
          41,
          42,
          43,
          44,
          45,
          46,
          47,
          48,
          49,
          50,
          51,
          52,
          53,
          54,
          55,
          56,
          57,
          58,
          59,
          60,
          61,
          62,
          63,
          64,
          65,
          66,
          67,
          68,
          69,
          70,
          71,
          72,
          73,
          74,
          75,
          76,
          77,
          78,
          79,
          80,
          81,
          82,
          83,
          84,
          85,
          86,
          87,
          88,
          89,
          90,
          91,
          92,
          93,
          94,
          95,
          96,
          97,
          98,
          99
         ],
         "y": [
          0.6933109797681292,
          0.5,
          0.6740452375539895,
          0.642191407137986,
          0.7197374403273473,
          0.5,
          0.700215958172312,
          0.5,
          0.694646510570584,
          0.6791600363719027,
          0.697147078881564,
          0.7202773357581269,
          0.7441463969083882,
          0.7267560809274836,
          0.7210729711298022,
          0.7333484882927939,
          0.7263866787906342,
          0.7375824050920664,
          0.706097976812912,
          0.7090247783587179,
          0.7278642873380313,
          0.7331495794498749,
          0.7421288929302114,
          0.7409922709706751,
          0.7420720618322347,
          0.7303648556490112,
          0.7031995908160946,
          0.7021482155035236,
          0.7315867242555125,
          0.703796317344851,
          0.732666515117072,
          0.7367583541714026,
          0.7382643782677881,
          0.7226074107751762,
          0.7359058877017504,
          0.6358547397135712,
          0.7170095476244601,
          0.7414753353034781,
          0.6979427142532393,
          0.6394635144350989,
          0.7361332120936577,
          0.7424982950670607,
          0.7372130029552171,
          0.7330643328029098,
          0.7215276199136168,
          0.6997328938395091,
          0.736928847465333,
          0.7033984996590135,
          0.7347408501932258,
          0.7403955444419187,
          0.5,
          0.7409922709706751,
          0.7411627642646055,
          0.7415605819504433,
          0.7344566947033416,
          0.7364457831325301,
          0.6943623550807001,
          0.7097919981814049,
          0.7416174130484201,
          0.7332348260968402,
          0.7243975903614459,
          0.7368720163673561,
          0.7122641509433962,
          0.7356217322118664,
          0.7330075017049329,
          0.6991929984087293,
          0.7341441236644692,
          0.7389747669924983,
          0.7207888156399181,
          0.7227779040691067,
          0.721754944305524,
          0.7415889974994316,
          0.7394294157763128,
          0.7356501477608548,
          0.7339167992725618,
          0.7385201182086838,
          0.7388042736985678,
          0.7422141395771765,
          0.7330643328029098,
          0.7333484882927938,
          0.7082859740850194,
          0.7394010002273245,
          0.73894635144351,
          0.7315014776085473,
          0.7318424641964083,
          0.7349681745851331,
          0.7244544214594226,
          0.736701523073426,
          0.7198511025233009,
          0.7376392361900432,
          0.7047056149124802,
          0.7355080700159127,
          0.7408501932257331,
          0.73769606728802,
          0.7403671288929302,
          0.7338315526255969,
          0.7364173675835417,
          0.7220675153443965,
          0.7391736758354172,
          0.7075187542623324
         ]
        },
        {
         "mode": "lines",
         "name": "Best Value",
         "type": "scatter",
         "x": [
          0,
          1,
          2,
          3,
          4,
          5,
          6,
          7,
          8,
          9,
          10,
          11,
          12,
          13,
          14,
          15,
          16,
          17,
          18,
          19,
          20,
          21,
          22,
          23,
          24,
          25,
          26,
          27,
          28,
          29,
          30,
          31,
          32,
          33,
          34,
          35,
          36,
          37,
          38,
          39,
          40,
          41,
          42,
          43,
          44,
          45,
          46,
          47,
          48,
          49,
          50,
          51,
          52,
          53,
          54,
          55,
          56,
          57,
          58,
          59,
          60,
          61,
          62,
          63,
          64,
          65,
          66,
          67,
          68,
          69,
          70,
          71,
          72,
          73,
          74,
          75,
          76,
          77,
          78,
          79,
          80,
          81,
          82,
          83,
          84,
          85,
          86,
          87,
          88,
          89,
          90,
          91,
          92,
          93,
          94,
          95,
          96,
          97,
          98,
          99
         ],
         "y": [
          0.6933109797681292,
          0.6933109797681292,
          0.6933109797681292,
          0.6933109797681292,
          0.7197374403273473,
          0.7197374403273473,
          0.7197374403273473,
          0.7197374403273473,
          0.7197374403273473,
          0.7197374403273473,
          0.7197374403273473,
          0.7202773357581269,
          0.7441463969083882,
          0.7441463969083882,
          0.7441463969083882,
          0.7441463969083882,
          0.7441463969083882,
          0.7441463969083882,
          0.7441463969083882,
          0.7441463969083882,
          0.7441463969083882,
          0.7441463969083882,
          0.7441463969083882,
          0.7441463969083882,
          0.7441463969083882,
          0.7441463969083882,
          0.7441463969083882,
          0.7441463969083882,
          0.7441463969083882,
          0.7441463969083882,
          0.7441463969083882,
          0.7441463969083882,
          0.7441463969083882,
          0.7441463969083882,
          0.7441463969083882,
          0.7441463969083882,
          0.7441463969083882,
          0.7441463969083882,
          0.7441463969083882,
          0.7441463969083882,
          0.7441463969083882,
          0.7441463969083882,
          0.7441463969083882,
          0.7441463969083882,
          0.7441463969083882,
          0.7441463969083882,
          0.7441463969083882,
          0.7441463969083882,
          0.7441463969083882,
          0.7441463969083882,
          0.7441463969083882,
          0.7441463969083882,
          0.7441463969083882,
          0.7441463969083882,
          0.7441463969083882,
          0.7441463969083882,
          0.7441463969083882,
          0.7441463969083882,
          0.7441463969083882,
          0.7441463969083882,
          0.7441463969083882,
          0.7441463969083882,
          0.7441463969083882,
          0.7441463969083882,
          0.7441463969083882,
          0.7441463969083882,
          0.7441463969083882,
          0.7441463969083882,
          0.7441463969083882,
          0.7441463969083882,
          0.7441463969083882,
          0.7441463969083882,
          0.7441463969083882,
          0.7441463969083882,
          0.7441463969083882,
          0.7441463969083882,
          0.7441463969083882,
          0.7441463969083882,
          0.7441463969083882,
          0.7441463969083882,
          0.7441463969083882,
          0.7441463969083882,
          0.7441463969083882,
          0.7441463969083882,
          0.7441463969083882,
          0.7441463969083882,
          0.7441463969083882,
          0.7441463969083882,
          0.7441463969083882,
          0.7441463969083882,
          0.7441463969083882,
          0.7441463969083882,
          0.7441463969083882,
          0.7441463969083882,
          0.7441463969083882,
          0.7441463969083882,
          0.7441463969083882,
          0.7441463969083882,
          0.7441463969083882,
          0.7441463969083882
         ]
        },
        {
         "marker": {
          "color": "#cccccc"
         },
         "mode": "markers",
         "name": "Infeasible Trial",
         "showlegend": false,
         "type": "scatter",
         "x": [],
         "y": []
        }
       ],
       "layout": {
        "template": {
         "data": {
          "bar": [
           {
            "error_x": {
             "color": "#2a3f5f"
            },
            "error_y": {
             "color": "#2a3f5f"
            },
            "marker": {
             "line": {
              "color": "#E5ECF6",
              "width": 0.5
             },
             "pattern": {
              "fillmode": "overlay",
              "size": 10,
              "solidity": 0.2
             }
            },
            "type": "bar"
           }
          ],
          "barpolar": [
           {
            "marker": {
             "line": {
              "color": "#E5ECF6",
              "width": 0.5
             },
             "pattern": {
              "fillmode": "overlay",
              "size": 10,
              "solidity": 0.2
             }
            },
            "type": "barpolar"
           }
          ],
          "carpet": [
           {
            "aaxis": {
             "endlinecolor": "#2a3f5f",
             "gridcolor": "white",
             "linecolor": "white",
             "minorgridcolor": "white",
             "startlinecolor": "#2a3f5f"
            },
            "baxis": {
             "endlinecolor": "#2a3f5f",
             "gridcolor": "white",
             "linecolor": "white",
             "minorgridcolor": "white",
             "startlinecolor": "#2a3f5f"
            },
            "type": "carpet"
           }
          ],
          "choropleth": [
           {
            "colorbar": {
             "outlinewidth": 0,
             "ticks": ""
            },
            "type": "choropleth"
           }
          ],
          "contour": [
           {
            "colorbar": {
             "outlinewidth": 0,
             "ticks": ""
            },
            "colorscale": [
             [
              0,
              "#0d0887"
             ],
             [
              0.1111111111111111,
              "#46039f"
             ],
             [
              0.2222222222222222,
              "#7201a8"
             ],
             [
              0.3333333333333333,
              "#9c179e"
             ],
             [
              0.4444444444444444,
              "#bd3786"
             ],
             [
              0.5555555555555556,
              "#d8576b"
             ],
             [
              0.6666666666666666,
              "#ed7953"
             ],
             [
              0.7777777777777778,
              "#fb9f3a"
             ],
             [
              0.8888888888888888,
              "#fdca26"
             ],
             [
              1,
              "#f0f921"
             ]
            ],
            "type": "contour"
           }
          ],
          "contourcarpet": [
           {
            "colorbar": {
             "outlinewidth": 0,
             "ticks": ""
            },
            "type": "contourcarpet"
           }
          ],
          "heatmap": [
           {
            "colorbar": {
             "outlinewidth": 0,
             "ticks": ""
            },
            "colorscale": [
             [
              0,
              "#0d0887"
             ],
             [
              0.1111111111111111,
              "#46039f"
             ],
             [
              0.2222222222222222,
              "#7201a8"
             ],
             [
              0.3333333333333333,
              "#9c179e"
             ],
             [
              0.4444444444444444,
              "#bd3786"
             ],
             [
              0.5555555555555556,
              "#d8576b"
             ],
             [
              0.6666666666666666,
              "#ed7953"
             ],
             [
              0.7777777777777778,
              "#fb9f3a"
             ],
             [
              0.8888888888888888,
              "#fdca26"
             ],
             [
              1,
              "#f0f921"
             ]
            ],
            "type": "heatmap"
           }
          ],
          "heatmapgl": [
           {
            "colorbar": {
             "outlinewidth": 0,
             "ticks": ""
            },
            "colorscale": [
             [
              0,
              "#0d0887"
             ],
             [
              0.1111111111111111,
              "#46039f"
             ],
             [
              0.2222222222222222,
              "#7201a8"
             ],
             [
              0.3333333333333333,
              "#9c179e"
             ],
             [
              0.4444444444444444,
              "#bd3786"
             ],
             [
              0.5555555555555556,
              "#d8576b"
             ],
             [
              0.6666666666666666,
              "#ed7953"
             ],
             [
              0.7777777777777778,
              "#fb9f3a"
             ],
             [
              0.8888888888888888,
              "#fdca26"
             ],
             [
              1,
              "#f0f921"
             ]
            ],
            "type": "heatmapgl"
           }
          ],
          "histogram": [
           {
            "marker": {
             "pattern": {
              "fillmode": "overlay",
              "size": 10,
              "solidity": 0.2
             }
            },
            "type": "histogram"
           }
          ],
          "histogram2d": [
           {
            "colorbar": {
             "outlinewidth": 0,
             "ticks": ""
            },
            "colorscale": [
             [
              0,
              "#0d0887"
             ],
             [
              0.1111111111111111,
              "#46039f"
             ],
             [
              0.2222222222222222,
              "#7201a8"
             ],
             [
              0.3333333333333333,
              "#9c179e"
             ],
             [
              0.4444444444444444,
              "#bd3786"
             ],
             [
              0.5555555555555556,
              "#d8576b"
             ],
             [
              0.6666666666666666,
              "#ed7953"
             ],
             [
              0.7777777777777778,
              "#fb9f3a"
             ],
             [
              0.8888888888888888,
              "#fdca26"
             ],
             [
              1,
              "#f0f921"
             ]
            ],
            "type": "histogram2d"
           }
          ],
          "histogram2dcontour": [
           {
            "colorbar": {
             "outlinewidth": 0,
             "ticks": ""
            },
            "colorscale": [
             [
              0,
              "#0d0887"
             ],
             [
              0.1111111111111111,
              "#46039f"
             ],
             [
              0.2222222222222222,
              "#7201a8"
             ],
             [
              0.3333333333333333,
              "#9c179e"
             ],
             [
              0.4444444444444444,
              "#bd3786"
             ],
             [
              0.5555555555555556,
              "#d8576b"
             ],
             [
              0.6666666666666666,
              "#ed7953"
             ],
             [
              0.7777777777777778,
              "#fb9f3a"
             ],
             [
              0.8888888888888888,
              "#fdca26"
             ],
             [
              1,
              "#f0f921"
             ]
            ],
            "type": "histogram2dcontour"
           }
          ],
          "mesh3d": [
           {
            "colorbar": {
             "outlinewidth": 0,
             "ticks": ""
            },
            "type": "mesh3d"
           }
          ],
          "parcoords": [
           {
            "line": {
             "colorbar": {
              "outlinewidth": 0,
              "ticks": ""
             }
            },
            "type": "parcoords"
           }
          ],
          "pie": [
           {
            "automargin": true,
            "type": "pie"
           }
          ],
          "scatter": [
           {
            "fillpattern": {
             "fillmode": "overlay",
             "size": 10,
             "solidity": 0.2
            },
            "type": "scatter"
           }
          ],
          "scatter3d": [
           {
            "line": {
             "colorbar": {
              "outlinewidth": 0,
              "ticks": ""
             }
            },
            "marker": {
             "colorbar": {
              "outlinewidth": 0,
              "ticks": ""
             }
            },
            "type": "scatter3d"
           }
          ],
          "scattercarpet": [
           {
            "marker": {
             "colorbar": {
              "outlinewidth": 0,
              "ticks": ""
             }
            },
            "type": "scattercarpet"
           }
          ],
          "scattergeo": [
           {
            "marker": {
             "colorbar": {
              "outlinewidth": 0,
              "ticks": ""
             }
            },
            "type": "scattergeo"
           }
          ],
          "scattergl": [
           {
            "marker": {
             "colorbar": {
              "outlinewidth": 0,
              "ticks": ""
             }
            },
            "type": "scattergl"
           }
          ],
          "scattermapbox": [
           {
            "marker": {
             "colorbar": {
              "outlinewidth": 0,
              "ticks": ""
             }
            },
            "type": "scattermapbox"
           }
          ],
          "scatterpolar": [
           {
            "marker": {
             "colorbar": {
              "outlinewidth": 0,
              "ticks": ""
             }
            },
            "type": "scatterpolar"
           }
          ],
          "scatterpolargl": [
           {
            "marker": {
             "colorbar": {
              "outlinewidth": 0,
              "ticks": ""
             }
            },
            "type": "scatterpolargl"
           }
          ],
          "scatterternary": [
           {
            "marker": {
             "colorbar": {
              "outlinewidth": 0,
              "ticks": ""
             }
            },
            "type": "scatterternary"
           }
          ],
          "surface": [
           {
            "colorbar": {
             "outlinewidth": 0,
             "ticks": ""
            },
            "colorscale": [
             [
              0,
              "#0d0887"
             ],
             [
              0.1111111111111111,
              "#46039f"
             ],
             [
              0.2222222222222222,
              "#7201a8"
             ],
             [
              0.3333333333333333,
              "#9c179e"
             ],
             [
              0.4444444444444444,
              "#bd3786"
             ],
             [
              0.5555555555555556,
              "#d8576b"
             ],
             [
              0.6666666666666666,
              "#ed7953"
             ],
             [
              0.7777777777777778,
              "#fb9f3a"
             ],
             [
              0.8888888888888888,
              "#fdca26"
             ],
             [
              1,
              "#f0f921"
             ]
            ],
            "type": "surface"
           }
          ],
          "table": [
           {
            "cells": {
             "fill": {
              "color": "#EBF0F8"
             },
             "line": {
              "color": "white"
             }
            },
            "header": {
             "fill": {
              "color": "#C8D4E3"
             },
             "line": {
              "color": "white"
             }
            },
            "type": "table"
           }
          ]
         },
         "layout": {
          "annotationdefaults": {
           "arrowcolor": "#2a3f5f",
           "arrowhead": 0,
           "arrowwidth": 1
          },
          "autotypenumbers": "strict",
          "coloraxis": {
           "colorbar": {
            "outlinewidth": 0,
            "ticks": ""
           }
          },
          "colorscale": {
           "diverging": [
            [
             0,
             "#8e0152"
            ],
            [
             0.1,
             "#c51b7d"
            ],
            [
             0.2,
             "#de77ae"
            ],
            [
             0.3,
             "#f1b6da"
            ],
            [
             0.4,
             "#fde0ef"
            ],
            [
             0.5,
             "#f7f7f7"
            ],
            [
             0.6,
             "#e6f5d0"
            ],
            [
             0.7,
             "#b8e186"
            ],
            [
             0.8,
             "#7fbc41"
            ],
            [
             0.9,
             "#4d9221"
            ],
            [
             1,
             "#276419"
            ]
           ],
           "sequential": [
            [
             0,
             "#0d0887"
            ],
            [
             0.1111111111111111,
             "#46039f"
            ],
            [
             0.2222222222222222,
             "#7201a8"
            ],
            [
             0.3333333333333333,
             "#9c179e"
            ],
            [
             0.4444444444444444,
             "#bd3786"
            ],
            [
             0.5555555555555556,
             "#d8576b"
            ],
            [
             0.6666666666666666,
             "#ed7953"
            ],
            [
             0.7777777777777778,
             "#fb9f3a"
            ],
            [
             0.8888888888888888,
             "#fdca26"
            ],
            [
             1,
             "#f0f921"
            ]
           ],
           "sequentialminus": [
            [
             0,
             "#0d0887"
            ],
            [
             0.1111111111111111,
             "#46039f"
            ],
            [
             0.2222222222222222,
             "#7201a8"
            ],
            [
             0.3333333333333333,
             "#9c179e"
            ],
            [
             0.4444444444444444,
             "#bd3786"
            ],
            [
             0.5555555555555556,
             "#d8576b"
            ],
            [
             0.6666666666666666,
             "#ed7953"
            ],
            [
             0.7777777777777778,
             "#fb9f3a"
            ],
            [
             0.8888888888888888,
             "#fdca26"
            ],
            [
             1,
             "#f0f921"
            ]
           ]
          },
          "colorway": [
           "#636efa",
           "#EF553B",
           "#00cc96",
           "#ab63fa",
           "#FFA15A",
           "#19d3f3",
           "#FF6692",
           "#B6E880",
           "#FF97FF",
           "#FECB52"
          ],
          "font": {
           "color": "#2a3f5f"
          },
          "geo": {
           "bgcolor": "white",
           "lakecolor": "white",
           "landcolor": "#E5ECF6",
           "showlakes": true,
           "showland": true,
           "subunitcolor": "white"
          },
          "hoverlabel": {
           "align": "left"
          },
          "hovermode": "closest",
          "mapbox": {
           "style": "light"
          },
          "paper_bgcolor": "white",
          "plot_bgcolor": "#E5ECF6",
          "polar": {
           "angularaxis": {
            "gridcolor": "white",
            "linecolor": "white",
            "ticks": ""
           },
           "bgcolor": "#E5ECF6",
           "radialaxis": {
            "gridcolor": "white",
            "linecolor": "white",
            "ticks": ""
           }
          },
          "scene": {
           "xaxis": {
            "backgroundcolor": "#E5ECF6",
            "gridcolor": "white",
            "gridwidth": 2,
            "linecolor": "white",
            "showbackground": true,
            "ticks": "",
            "zerolinecolor": "white"
           },
           "yaxis": {
            "backgroundcolor": "#E5ECF6",
            "gridcolor": "white",
            "gridwidth": 2,
            "linecolor": "white",
            "showbackground": true,
            "ticks": "",
            "zerolinecolor": "white"
           },
           "zaxis": {
            "backgroundcolor": "#E5ECF6",
            "gridcolor": "white",
            "gridwidth": 2,
            "linecolor": "white",
            "showbackground": true,
            "ticks": "",
            "zerolinecolor": "white"
           }
          },
          "shapedefaults": {
           "line": {
            "color": "#2a3f5f"
           }
          },
          "ternary": {
           "aaxis": {
            "gridcolor": "white",
            "linecolor": "white",
            "ticks": ""
           },
           "baxis": {
            "gridcolor": "white",
            "linecolor": "white",
            "ticks": ""
           },
           "bgcolor": "#E5ECF6",
           "caxis": {
            "gridcolor": "white",
            "linecolor": "white",
            "ticks": ""
           }
          },
          "title": {
           "x": 0.05
          },
          "xaxis": {
           "automargin": true,
           "gridcolor": "white",
           "linecolor": "white",
           "ticks": "",
           "title": {
            "standoff": 15
           },
           "zerolinecolor": "white",
           "zerolinewidth": 2
          },
          "yaxis": {
           "automargin": true,
           "gridcolor": "white",
           "linecolor": "white",
           "ticks": "",
           "title": {
            "standoff": 15
           },
           "zerolinecolor": "white",
           "zerolinewidth": 2
          }
         }
        },
        "title": {
         "text": "Optimization History Plot"
        },
        "xaxis": {
         "title": {
          "text": "Trial"
         }
        },
        "yaxis": {
         "title": {
          "text": "Objective Value"
         }
        }
       }
      }
     },
     "metadata": {},
     "output_type": "display_data"
    }
   ],
   "source": [
    "plot_optimization_history(study)"
   ]
  },
  {
   "cell_type": "markdown",
   "id": "bfb80126",
   "metadata": {},
   "source": [
    "#### Entrenamiento\n",
    "\n",
    "Entrenamos el modelo con los mejores hiperparámetros seleccionados y validamos que no hayamos caido en overfitting."
   ]
  },
  {
   "cell_type": "code",
   "execution_count": 13,
   "id": "017525d0",
   "metadata": {},
   "outputs": [
    {
     "data": {
      "text/html": [
       "<style>#sk-container-id-1 {color: black;}#sk-container-id-1 pre{padding: 0;}#sk-container-id-1 div.sk-toggleable {background-color: white;}#sk-container-id-1 label.sk-toggleable__label {cursor: pointer;display: block;width: 100%;margin-bottom: 0;padding: 0.3em;box-sizing: border-box;text-align: center;}#sk-container-id-1 label.sk-toggleable__label-arrow:before {content: \"▸\";float: left;margin-right: 0.25em;color: #696969;}#sk-container-id-1 label.sk-toggleable__label-arrow:hover:before {color: black;}#sk-container-id-1 div.sk-estimator:hover label.sk-toggleable__label-arrow:before {color: black;}#sk-container-id-1 div.sk-toggleable__content {max-height: 0;max-width: 0;overflow: hidden;text-align: left;background-color: #f0f8ff;}#sk-container-id-1 div.sk-toggleable__content pre {margin: 0.2em;color: black;border-radius: 0.25em;background-color: #f0f8ff;}#sk-container-id-1 input.sk-toggleable__control:checked~div.sk-toggleable__content {max-height: 200px;max-width: 100%;overflow: auto;}#sk-container-id-1 input.sk-toggleable__control:checked~label.sk-toggleable__label-arrow:before {content: \"▾\";}#sk-container-id-1 div.sk-estimator input.sk-toggleable__control:checked~label.sk-toggleable__label {background-color: #d4ebff;}#sk-container-id-1 div.sk-label input.sk-toggleable__control:checked~label.sk-toggleable__label {background-color: #d4ebff;}#sk-container-id-1 input.sk-hidden--visually {border: 0;clip: rect(1px 1px 1px 1px);clip: rect(1px, 1px, 1px, 1px);height: 1px;margin: -1px;overflow: hidden;padding: 0;position: absolute;width: 1px;}#sk-container-id-1 div.sk-estimator {font-family: monospace;background-color: #f0f8ff;border: 1px dotted black;border-radius: 0.25em;box-sizing: border-box;margin-bottom: 0.5em;}#sk-container-id-1 div.sk-estimator:hover {background-color: #d4ebff;}#sk-container-id-1 div.sk-parallel-item::after {content: \"\";width: 100%;border-bottom: 1px solid gray;flex-grow: 1;}#sk-container-id-1 div.sk-label:hover label.sk-toggleable__label {background-color: #d4ebff;}#sk-container-id-1 div.sk-serial::before {content: \"\";position: absolute;border-left: 1px solid gray;box-sizing: border-box;top: 0;bottom: 0;left: 50%;z-index: 0;}#sk-container-id-1 div.sk-serial {display: flex;flex-direction: column;align-items: center;background-color: white;padding-right: 0.2em;padding-left: 0.2em;position: relative;}#sk-container-id-1 div.sk-item {position: relative;z-index: 1;}#sk-container-id-1 div.sk-parallel {display: flex;align-items: stretch;justify-content: center;background-color: white;position: relative;}#sk-container-id-1 div.sk-item::before, #sk-container-id-1 div.sk-parallel-item::before {content: \"\";position: absolute;border-left: 1px solid gray;box-sizing: border-box;top: 0;bottom: 0;left: 50%;z-index: -1;}#sk-container-id-1 div.sk-parallel-item {display: flex;flex-direction: column;z-index: 1;position: relative;background-color: white;}#sk-container-id-1 div.sk-parallel-item:first-child::after {align-self: flex-end;width: 50%;}#sk-container-id-1 div.sk-parallel-item:last-child::after {align-self: flex-start;width: 50%;}#sk-container-id-1 div.sk-parallel-item:only-child::after {width: 0;}#sk-container-id-1 div.sk-dashed-wrapped {border: 1px dashed gray;margin: 0 0.4em 0.5em 0.4em;box-sizing: border-box;padding-bottom: 0.4em;background-color: white;}#sk-container-id-1 div.sk-label label {font-family: monospace;font-weight: bold;display: inline-block;line-height: 1.2em;}#sk-container-id-1 div.sk-label-container {text-align: center;}#sk-container-id-1 div.sk-container {/* jupyter's `normalize.less` sets `[hidden] { display: none; }` but bootstrap.min.css set `[hidden] { display: none !important; }` so we also need the `!important` here to be able to override the default hidden behavior on the sphinx rendered scikit-learn.org. See: https://github.com/scikit-learn/scikit-learn/issues/21755 */display: inline-block !important;position: relative;}#sk-container-id-1 div.sk-text-repr-fallback {display: none;}</style><div id=\"sk-container-id-1\" class=\"sk-top-container\"><div class=\"sk-text-repr-fallback\"><pre>RandomForestClassifier(bootstrap=False, max_depth=70,\n",
       "                       max_features=0.505236972643752,\n",
       "                       min_samples_leaf=0.1015248385855935,\n",
       "                       min_samples_split=0.11391573663562704, n_estimators=211)</pre><b>In a Jupyter environment, please rerun this cell to show the HTML representation or trust the notebook. <br />On GitHub, the HTML representation is unable to render, please try loading this page with nbviewer.org.</b></div><div class=\"sk-container\" hidden><div class=\"sk-item\"><div class=\"sk-estimator sk-toggleable\"><input class=\"sk-toggleable__control sk-hidden--visually\" id=\"sk-estimator-id-1\" type=\"checkbox\" checked><label for=\"sk-estimator-id-1\" class=\"sk-toggleable__label sk-toggleable__label-arrow\">RandomForestClassifier</label><div class=\"sk-toggleable__content\"><pre>RandomForestClassifier(bootstrap=False, max_depth=70,\n",
       "                       max_features=0.505236972643752,\n",
       "                       min_samples_leaf=0.1015248385855935,\n",
       "                       min_samples_split=0.11391573663562704, n_estimators=211)</pre></div></div></div></div></div>"
      ],
      "text/plain": [
       "RandomForestClassifier(bootstrap=False, max_depth=70,\n",
       "                       max_features=0.505236972643752,\n",
       "                       min_samples_leaf=0.1015248385855935,\n",
       "                       min_samples_split=0.11391573663562704, n_estimators=211)"
      ]
     },
     "execution_count": 13,
     "metadata": {},
     "output_type": "execute_result"
    }
   ],
   "source": [
    "# Entrenamos el modelo con los mejores hiperparámetros\n",
    "best_model = RandomForestClassifier(**best_params)\n",
    "best_model.fit(x_train, y_train)"
   ]
  },
  {
   "cell_type": "markdown",
   "id": "fdf4af76",
   "metadata": {},
   "source": [
    "#### Resultados"
   ]
  },
  {
   "cell_type": "markdown",
   "id": "8c3fc292",
   "metadata": {},
   "source": [
    "##### Evaluamos en el conjunto de test"
   ]
  },
  {
   "cell_type": "code",
   "execution_count": 14,
   "id": "f81adb69",
   "metadata": {},
   "outputs": [
    {
     "name": "stdout",
     "output_type": "stream",
     "text": [
      "Informe de Clasificación:\n",
      "              precision    recall  f1-score   support\n",
      "\n",
      "    Negativo       0.73      0.81      0.77       166\n",
      "    Positivo       0.64      0.52      0.57       106\n",
      "\n",
      "    accuracy                           0.70       272\n",
      "   macro avg       0.68      0.67      0.67       272\n",
      "weighted avg       0.69      0.70      0.69       272\n",
      "\n"
     ]
    },
    {
     "data": {
      "image/png": "[encoded data removed]",
      "text/plain": [
       "<Figure size 1200x300 with 3 Axes>"
      ]
     },
     "metadata": {},
     "output_type": "display_data"
    }
   ],
   "source": [
    "_ = track_metrics(\n",
    "    best_model,\n",
    "    x_test,\n",
    "    y_test,\n",
    "    set_name=\"test\",\n",
    "    threshold=0.5,\n",
    ")"
   ]
  },
  {
   "cell_type": "markdown",
   "id": "fd45ec5e",
   "metadata": {},
   "source": [
    "##### Evaluamos en el conjunto de validación"
   ]
  },
  {
   "cell_type": "code",
   "execution_count": 15,
   "id": "cb055feb",
   "metadata": {},
   "outputs": [
    {
     "name": "stdout",
     "output_type": "stream",
     "text": [
      "Informe de Clasificación:\n",
      "              precision    recall  f1-score   support\n",
      "\n",
      "    Negativo       0.77      0.84      0.81       177\n",
      "    Positivo       0.51      0.40      0.45        73\n",
      "\n",
      "    accuracy                           0.71       250\n",
      "   macro avg       0.64      0.62      0.63       250\n",
      "weighted avg       0.70      0.71      0.70       250\n",
      "\n"
     ]
    },
    {
     "data": {
      "image/png": "[encoded data removed]",
      "text/plain": [
       "<Figure size 1200x300 with 3 Axes>"
      ]
     },
     "metadata": {},
     "output_type": "display_data"
    }
   ],
   "source": [
    "_ = track_metrics(\n",
    "    best_model,\n",
    "    x_val,\n",
    "    y_val,\n",
    "    set_name=\"val\",\n",
    "    threshold=0.5,\n",
    ")"
   ]
  }
 ],
 "metadata": {
  "kernelspec": {
   "display_name": "Python 3 (ipykernel)",
   "language": "python",
   "name": "python3"
  },
  "language_info": {
   "codemirror_mode": {
    "name": "ipython",
    "version": 3
   },
   "file_extension": ".py",
   "mimetype": "text/x-python",
   "name": "python",
   "nbconvert_exporter": "python",
   "pygments_lexer": "ipython3",
   "version": "3.11.7"
  }
 },
 "nbformat": 4,
 "nbformat_minor": 5
}
