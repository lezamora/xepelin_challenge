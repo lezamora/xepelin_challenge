{
 "cells": [
  {
   "cell_type": "markdown",
   "id": "8a33f19c-7410-4f19-9f12-a8907ccf040c",
   "metadata": {},
   "source": [
    "## Feature engineering\n",
    "\n",
    "El objetivo de este notebook es generar nuevas variables a partir de las analizadas. Tambíen se hará una breve exploración para determinar si son variables que pueden ser importantes para el modelo."
   ]
  },
  {
   "cell_type": "markdown",
   "id": "e0ee62ec-01d6-4bff-89df-808e2b581dbe",
   "metadata": {},
   "source": [
    "### Import de los paquetes"
   ]
  },
  {
   "cell_type": "code",
   "execution_count": 1,
   "id": "a9a4d20a-d430-436f-bca2-46bdc63e9ae1",
   "metadata": {},
   "outputs": [],
   "source": [
    "import pandas as pd\n",
    "from sklearn.feature_selection import RFE\n",
    "from sklearn.linear_model import LassoCV\n",
    "from sklearn.model_selection import train_test_split\n",
    "from sklearn.preprocessing import StandardScaler\n",
    "from sklearn.tree import DecisionTreeClassifier"
   ]
  },
  {
   "cell_type": "markdown",
   "id": "b0b97436-4f15-41d4-9828-5464d08ca3ea",
   "metadata": {},
   "source": [
    "### Configuraciones"
   ]
  },
  {
   "cell_type": "code",
   "execution_count": 2,
   "id": "418f9778-3404-4cc4-85fc-819a4a865284",
   "metadata": {},
   "outputs": [],
   "source": [
    "pd.set_option(\"display.max_columns\", None)"
   ]
  },
  {
   "cell_type": "markdown",
   "id": "f266fb74-c42c-4394-8297-b799f5d67f2c",
   "metadata": {},
   "source": [
    "### Carga de datos"
   ]
  },
  {
   "cell_type": "code",
   "execution_count": 3,
   "id": "cd9d03c5-708f-4614-9407-199a0f592273",
   "metadata": {},
   "outputs": [
    {
     "data": {
      "text/plain": [
       "(3000, 28)"
      ]
     },
     "execution_count": 3,
     "metadata": {},
     "output_type": "execute_result"
    }
   ],
   "source": [
    "df = pd.read_csv(\"../data/intermediate/dataset_newfeatures_processed.csv\")\n",
    "df.shape"
   ]
  },
  {
   "cell_type": "code",
   "execution_count": 4,
   "id": "825de244-7759-487d-be7c-8b814bfbf424",
   "metadata": {},
   "outputs": [
    {
     "data": {
      "text/html": [
       "<div>\n",
       "<style scoped>\n",
       "    .dataframe tbody tr th:only-of-type {\n",
       "        vertical-align: middle;\n",
       "    }\n",
       "\n",
       "    .dataframe tbody tr th {\n",
       "        vertical-align: top;\n",
       "    }\n",
       "\n",
       "    .dataframe thead th {\n",
       "        text-align: right;\n",
       "    }\n",
       "</style>\n",
       "<table border=\"1\" class=\"dataframe\">\n",
       "  <thead>\n",
       "    <tr style=\"text-align: right;\">\n",
       "      <th></th>\n",
       "      <th>invoiceId</th>\n",
       "      <th>businessId</th>\n",
       "      <th>payerId</th>\n",
       "      <th>montoFactura</th>\n",
       "      <th>relationDays</th>\n",
       "      <th>relationRecurrence</th>\n",
       "      <th>issuerInvoicesAmount</th>\n",
       "      <th>issuerCancelledInvoices</th>\n",
       "      <th>diasActividadPagador</th>\n",
       "      <th>Clients12Months</th>\n",
       "      <th>mora</th>\n",
       "      <th>facturaMorosa</th>\n",
       "      <th>montoFacturaWsz</th>\n",
       "      <th>issuerInvoicesAmountWsz</th>\n",
       "      <th>Clients12MonthsWsz</th>\n",
       "      <th>payerNroFactMorosas</th>\n",
       "      <th>payerNroFacturas</th>\n",
       "      <th>payerAmountFacturas</th>\n",
       "      <th>payerDiasMora</th>\n",
       "      <th>payerRatioMorosidad</th>\n",
       "      <th>payerAvgAmountFacturas</th>\n",
       "      <th>payerAvgDiasMora</th>\n",
       "      <th>payerDesvAmount</th>\n",
       "      <th>businessNroFactMorosas</th>\n",
       "      <th>businessNroFacturas</th>\n",
       "      <th>businessDiasMora</th>\n",
       "      <th>businessRatioMororsidad</th>\n",
       "      <th>businessAvgDiasMora</th>\n",
       "    </tr>\n",
       "  </thead>\n",
       "  <tbody>\n",
       "    <tr>\n",
       "      <th>2186</th>\n",
       "      <td>11654</td>\n",
       "      <td>5</td>\n",
       "      <td>5015</td>\n",
       "      <td>4713103</td>\n",
       "      <td>428.0</td>\n",
       "      <td>10.166667</td>\n",
       "      <td>187036960</td>\n",
       "      <td>0.021942</td>\n",
       "      <td>2632.0</td>\n",
       "      <td>4</td>\n",
       "      <td>18.0</td>\n",
       "      <td>1</td>\n",
       "      <td>4713103.0</td>\n",
       "      <td>187036960.0</td>\n",
       "      <td>4.0</td>\n",
       "      <td>18</td>\n",
       "      <td>45</td>\n",
       "      <td>181609529.0</td>\n",
       "      <td>102.0</td>\n",
       "      <td>0.400000</td>\n",
       "      <td>4035767</td>\n",
       "      <td>2.266667</td>\n",
       "      <td>677336.0</td>\n",
       "      <td>0</td>\n",
       "      <td>0</td>\n",
       "      <td>0.0</td>\n",
       "      <td>0.000000</td>\n",
       "      <td>0.000000</td>\n",
       "    </tr>\n",
       "    <tr>\n",
       "      <th>2819</th>\n",
       "      <td>13430</td>\n",
       "      <td>5</td>\n",
       "      <td>5015</td>\n",
       "      <td>7879645</td>\n",
       "      <td>455.0</td>\n",
       "      <td>9.891304</td>\n",
       "      <td>231623853</td>\n",
       "      <td>0.020079</td>\n",
       "      <td>2659.0</td>\n",
       "      <td>4</td>\n",
       "      <td>-6.0</td>\n",
       "      <td>0</td>\n",
       "      <td>7879645.0</td>\n",
       "      <td>231623853.0</td>\n",
       "      <td>4.0</td>\n",
       "      <td>22</td>\n",
       "      <td>52</td>\n",
       "      <td>210861531.0</td>\n",
       "      <td>149.0</td>\n",
       "      <td>0.423077</td>\n",
       "      <td>4055029</td>\n",
       "      <td>2.865385</td>\n",
       "      <td>3824616.0</td>\n",
       "      <td>1</td>\n",
       "      <td>1</td>\n",
       "      <td>18.0</td>\n",
       "      <td>1.000000</td>\n",
       "      <td>18.000000</td>\n",
       "    </tr>\n",
       "    <tr>\n",
       "      <th>2713</th>\n",
       "      <td>15957</td>\n",
       "      <td>5</td>\n",
       "      <td>5015</td>\n",
       "      <td>1190417</td>\n",
       "      <td>493.0</td>\n",
       "      <td>9.264151</td>\n",
       "      <td>272695026</td>\n",
       "      <td>0.016629</td>\n",
       "      <td>2697.0</td>\n",
       "      <td>4</td>\n",
       "      <td>1.0</td>\n",
       "      <td>1</td>\n",
       "      <td>1190417.0</td>\n",
       "      <td>272695026.0</td>\n",
       "      <td>4.0</td>\n",
       "      <td>23</td>\n",
       "      <td>66</td>\n",
       "      <td>261505599.0</td>\n",
       "      <td>419.0</td>\n",
       "      <td>0.348485</td>\n",
       "      <td>3962206</td>\n",
       "      <td>6.348485</td>\n",
       "      <td>-2771789.0</td>\n",
       "      <td>1</td>\n",
       "      <td>2</td>\n",
       "      <td>12.0</td>\n",
       "      <td>0.500000</td>\n",
       "      <td>6.000000</td>\n",
       "    </tr>\n",
       "    <tr>\n",
       "      <th>1141</th>\n",
       "      <td>18135</td>\n",
       "      <td>5</td>\n",
       "      <td>5015</td>\n",
       "      <td>189924</td>\n",
       "      <td>542.0</td>\n",
       "      <td>9.016667</td>\n",
       "      <td>321318559</td>\n",
       "      <td>0.014322</td>\n",
       "      <td>2746.0</td>\n",
       "      <td>3</td>\n",
       "      <td>0.0</td>\n",
       "      <td>0</td>\n",
       "      <td>189924.0</td>\n",
       "      <td>321318559.0</td>\n",
       "      <td>3.0</td>\n",
       "      <td>27</td>\n",
       "      <td>72</td>\n",
       "      <td>278112178.0</td>\n",
       "      <td>507.0</td>\n",
       "      <td>0.375000</td>\n",
       "      <td>3862669</td>\n",
       "      <td>7.041667</td>\n",
       "      <td>-3672745.0</td>\n",
       "      <td>2</td>\n",
       "      <td>3</td>\n",
       "      <td>13.0</td>\n",
       "      <td>0.666667</td>\n",
       "      <td>4.333333</td>\n",
       "    </tr>\n",
       "    <tr>\n",
       "      <th>2301</th>\n",
       "      <td>19438</td>\n",
       "      <td>5</td>\n",
       "      <td>5015</td>\n",
       "      <td>3755846</td>\n",
       "      <td>562.0</td>\n",
       "      <td>8.920635</td>\n",
       "      <td>346234215</td>\n",
       "      <td>0.013314</td>\n",
       "      <td>2766.0</td>\n",
       "      <td>3</td>\n",
       "      <td>-5.0</td>\n",
       "      <td>0</td>\n",
       "      <td>3755846.0</td>\n",
       "      <td>346234215.0</td>\n",
       "      <td>3.0</td>\n",
       "      <td>29</td>\n",
       "      <td>77</td>\n",
       "      <td>297456818.0</td>\n",
       "      <td>476.0</td>\n",
       "      <td>0.376623</td>\n",
       "      <td>3863075</td>\n",
       "      <td>6.181818</td>\n",
       "      <td>-107229.0</td>\n",
       "      <td>2</td>\n",
       "      <td>4</td>\n",
       "      <td>13.0</td>\n",
       "      <td>0.500000</td>\n",
       "      <td>3.250000</td>\n",
       "    </tr>\n",
       "  </tbody>\n",
       "</table>\n",
       "</div>"
      ],
      "text/plain": [
       "      invoiceId  businessId  payerId  montoFactura  relationDays  \\\n",
       "2186      11654           5     5015       4713103         428.0   \n",
       "2819      13430           5     5015       7879645         455.0   \n",
       "2713      15957           5     5015       1190417         493.0   \n",
       "1141      18135           5     5015        189924         542.0   \n",
       "2301      19438           5     5015       3755846         562.0   \n",
       "\n",
       "      relationRecurrence  issuerInvoicesAmount  issuerCancelledInvoices  \\\n",
       "2186           10.166667             187036960                 0.021942   \n",
       "2819            9.891304             231623853                 0.020079   \n",
       "2713            9.264151             272695026                 0.016629   \n",
       "1141            9.016667             321318559                 0.014322   \n",
       "2301            8.920635             346234215                 0.013314   \n",
       "\n",
       "      diasActividadPagador  Clients12Months  mora  facturaMorosa  \\\n",
       "2186                2632.0                4  18.0              1   \n",
       "2819                2659.0                4  -6.0              0   \n",
       "2713                2697.0                4   1.0              1   \n",
       "1141                2746.0                3   0.0              0   \n",
       "2301                2766.0                3  -5.0              0   \n",
       "\n",
       "      montoFacturaWsz  issuerInvoicesAmountWsz  Clients12MonthsWsz  \\\n",
       "2186        4713103.0              187036960.0                 4.0   \n",
       "2819        7879645.0              231623853.0                 4.0   \n",
       "2713        1190417.0              272695026.0                 4.0   \n",
       "1141         189924.0              321318559.0                 3.0   \n",
       "2301        3755846.0              346234215.0                 3.0   \n",
       "\n",
       "      payerNroFactMorosas  payerNroFacturas  payerAmountFacturas  \\\n",
       "2186                   18                45          181609529.0   \n",
       "2819                   22                52          210861531.0   \n",
       "2713                   23                66          261505599.0   \n",
       "1141                   27                72          278112178.0   \n",
       "2301                   29                77          297456818.0   \n",
       "\n",
       "      payerDiasMora  payerRatioMorosidad  payerAvgAmountFacturas  \\\n",
       "2186          102.0             0.400000                 4035767   \n",
       "2819          149.0             0.423077                 4055029   \n",
       "2713          419.0             0.348485                 3962206   \n",
       "1141          507.0             0.375000                 3862669   \n",
       "2301          476.0             0.376623                 3863075   \n",
       "\n",
       "      payerAvgDiasMora  payerDesvAmount  businessNroFactMorosas  \\\n",
       "2186          2.266667         677336.0                       0   \n",
       "2819          2.865385        3824616.0                       1   \n",
       "2713          6.348485       -2771789.0                       1   \n",
       "1141          7.041667       -3672745.0                       2   \n",
       "2301          6.181818        -107229.0                       2   \n",
       "\n",
       "      businessNroFacturas  businessDiasMora  businessRatioMororsidad  \\\n",
       "2186                    0               0.0                 0.000000   \n",
       "2819                    1              18.0                 1.000000   \n",
       "2713                    2              12.0                 0.500000   \n",
       "1141                    3              13.0                 0.666667   \n",
       "2301                    4              13.0                 0.500000   \n",
       "\n",
       "      businessAvgDiasMora  \n",
       "2186             0.000000  \n",
       "2819            18.000000  \n",
       "2713             6.000000  \n",
       "1141             4.333333  \n",
       "2301             3.250000  "
      ]
     },
     "execution_count": 4,
     "metadata": {},
     "output_type": "execute_result"
    }
   ],
   "source": [
    "df.head()"
   ]
  },
  {
   "cell_type": "markdown",
   "id": "6a816901-10e1-4f0f-a421-79e440bb9c76",
   "metadata": {},
   "source": [
    "### Procesamiento"
   ]
  },
  {
   "cell_type": "markdown",
   "id": "922a4f74-7ed0-468b-a37c-11417eecadcd",
   "metadata": {},
   "source": [
    "#### Removemos datos incorrectos\n",
    "Esto ya lo mencionamos en el notebook 1. Dado que carecemos del conocimiento necesario para saber que tratamiento darle a estos casos. Optamos por removerlos."
   ]
  },
  {
   "cell_type": "code",
   "execution_count": 5,
   "id": "1221baf5-5207-4708-84b0-ce232f41b5d8",
   "metadata": {},
   "outputs": [
    {
     "data": {
      "text/plain": [
       "(38, 28)"
      ]
     },
     "execution_count": 5,
     "metadata": {},
     "output_type": "execute_result"
    }
   ],
   "source": [
    "# Contabilizamos cuantos casos son\n",
    "df.loc[(df[\"relationDays\"] == 0) & (df[\"facturaMorosa\"] == 1)].shape"
   ]
  },
  {
   "cell_type": "code",
   "execution_count": 6,
   "id": "e0fb823e-8a8e-41a2-9e55-812d8bc02840",
   "metadata": {},
   "outputs": [
    {
     "data": {
      "text/plain": [
       "(2962, 28)"
      ]
     },
     "execution_count": 6,
     "metadata": {},
     "output_type": "execute_result"
    }
   ],
   "source": [
    "# Removemos\n",
    "lista_facturas_invalidas = df.loc[\n",
    "    (df[\"relationDays\"] == 0) & (df[\"facturaMorosa\"] == 1)\n",
    "][\"invoiceId\"].tolist()\n",
    "\n",
    "df = (\n",
    "    df.loc[~df[\"invoiceId\"].isin(lista_facturas_invalidas)]\n",
    "    .reset_index(drop=True)\n",
    "    .copy()\n",
    ")\n",
    "df.shape"
   ]
  },
  {
   "cell_type": "code",
   "execution_count": 7,
   "id": "c59247e4-e095-420a-8fdf-cb72f0573ca2",
   "metadata": {},
   "outputs": [],
   "source": [
    "# Dejamos una copiar para guardar al final\n",
    "df_final = df.copy()"
   ]
  },
  {
   "cell_type": "markdown",
   "id": "2db7155f-5119-4a0b-9e94-003b5f93206b",
   "metadata": {},
   "source": [
    "#### Selección de columnas\n",
    "En este caso podemos tomar varias decisiones:\n",
    "- La primera tiene que ver si utilizamos o no las variables con outliers y usamos a las cuales le hicimos tratamiento.\n",
    "- En el paso anterior creamos algunas variables auxiliares. En el algunos casos podría darse que algunas de estas variables funciones. Por lo tanto las evaluamos."
   ]
  },
  {
   "cell_type": "code",
   "execution_count": 8,
   "id": "d444c82e-9060-4282-bb5c-da48b8e4a6ba",
   "metadata": {},
   "outputs": [],
   "source": [
    "# Dejamos las variables con los outliers procesados\n",
    "opcion_1_variables = [\n",
    "    \"businessAvgDiasMora\",\n",
    "    \"businessNroFacturas\",\n",
    "    \"businessRatioMororsidad\",\n",
    "    \"Clients12MonthsWsz\",\n",
    "    \"diasActividadPagador\",\n",
    "    \"facturaMorosa\",\n",
    "    \"invoiceId\",\n",
    "    \"issuerCancelledInvoices\",\n",
    "    \"issuerInvoicesAmountWsz\",\n",
    "    \"montoFacturaWsz\",\n",
    "    \"payerAmountFacturas\",\n",
    "    \"payerAvgAmountFacturas\",\n",
    "    \"payerAvgDiasMora\",\n",
    "    \"payerDesvAmount\",\n",
    "    \"payerNroFacturas\",\n",
    "    \"payerRatioMorosidad\",\n",
    "    \"relationDays\",\n",
    "    \"relationRecurrence\",\n",
    "]"
   ]
  },
  {
   "cell_type": "code",
   "execution_count": 9,
   "id": "a5a77186-820d-4cd3-b592-dfa441775033",
   "metadata": {},
   "outputs": [],
   "source": [
    "# Dejamos las variables a pesar de los outliers\n",
    "opcion_2_variables = [\n",
    "    \"businessAvgDiasMora\",\n",
    "    \"businessNroFactMorosas\",\n",
    "    \"businessNroFacturas\",\n",
    "    \"businessRatioMororsidad\",\n",
    "    \"Clients12Months\",\n",
    "    \"diasActividadPagador\",\n",
    "    \"facturaMorosa\",\n",
    "    \"invoiceId\",\n",
    "    \"issuerCancelledInvoices\",\n",
    "    \"issuerInvoicesAmount\",\n",
    "    \"montoFactura\",\n",
    "    \"payerAmountFacturas\",\n",
    "    \"payerAvgAmountFacturas\",\n",
    "    \"payerAvgDiasMora\",\n",
    "    \"payerDesvAmount\",\n",
    "    \"payerNroFacturas\",\n",
    "    \"payerRatioMorosidad\",\n",
    "    \"relationDays\",\n",
    "    \"relationRecurrence\",\n",
    "]"
   ]
  },
  {
   "cell_type": "code",
   "execution_count": 10,
   "id": "588a7b57-b48a-4450-9f99-0233d2543c4f",
   "metadata": {},
   "outputs": [],
   "source": [
    "df = df[opcion_1_variables].copy()"
   ]
  },
  {
   "cell_type": "markdown",
   "id": "7afd85de-3cf7-489c-9928-63b38cc413a5",
   "metadata": {},
   "source": [
    "#### Split\n",
    "\n",
    "Para la validación del modelo vamos a mantener un 10% aproximadamente de la información. Este 10% serán las últimas facturas emitidas, ya que son datos que el modelo no observó para entrenar y así evitaríamos un sesgo en los resultados por causa de overfitting."
   ]
  },
  {
   "cell_type": "code",
   "execution_count": 11,
   "id": "eab9181f-8305-4710-ab30-7e0310064f1b",
   "metadata": {},
   "outputs": [
    {
     "data": {
      "text/plain": [
       "(2712, 17)"
      ]
     },
     "execution_count": 11,
     "metadata": {},
     "output_type": "execute_result"
    }
   ],
   "source": [
    "# Eliminamos las últimas 150 filas\n",
    "df = df.sort_values([\"invoiceId\"]).copy()\n",
    "df = df.iloc[:-250, :].copy()\n",
    "df.drop(columns=[\"invoiceId\"], inplace=True)\n",
    "df.shape"
   ]
  },
  {
   "cell_type": "markdown",
   "id": "6fc26aa5-7275-4dbf-b509-a38f7fd0ff3b",
   "metadata": {},
   "source": [
    "#### Selección de variables\n",
    "\n",
    "Utilizaremos diferentes métodos que nos permitan seleccionar las mejores variables."
   ]
  },
  {
   "cell_type": "markdown",
   "id": "e864f52d-0a91-4081-b601-54e12e09f082",
   "metadata": {},
   "source": [
    "##### Procesamiento"
   ]
  },
  {
   "cell_type": "code",
   "execution_count": 12,
   "id": "e319bc7e-30b7-4eb8-9b14-25ca35766dd8",
   "metadata": {},
   "outputs": [],
   "source": [
    "# Generamos una copia para no modificar el datset original\n",
    "df_feature_selection = df.copy()"
   ]
  },
  {
   "cell_type": "code",
   "execution_count": 13,
   "id": "f771ee7e-2166-4e15-99d3-4317d7c84560",
   "metadata": {},
   "outputs": [],
   "source": [
    "# Separamos los features del target\n",
    "x = df_feature_selection.drop([\"facturaMorosa\"], axis=1)\n",
    "y = df_feature_selection[\"facturaMorosa\"]"
   ]
  },
  {
   "cell_type": "code",
   "execution_count": 14,
   "id": "aa61bd58-3aa0-459a-9cbf-9beefd9a0237",
   "metadata": {},
   "outputs": [],
   "source": [
    "# Estandatizamos los features\n",
    "x_scaled = StandardScaler().fit_transform(x)\n",
    "x_scaled = pd.DataFrame(x_scaled, columns=x.columns)"
   ]
  },
  {
   "cell_type": "code",
   "execution_count": 15,
   "id": "edbe8340-8ef1-4ba0-a289-d9fa3e01cf82",
   "metadata": {},
   "outputs": [
    {
     "name": "stdout",
     "output_type": "stream",
     "text": [
      "Shape X train: (2440, 16)\n",
      "Shape X test: (272, 16)\n",
      "Shape y train: (2440,)\n",
      "Shape y test: (272,)\n",
      "Cantidad clase positiva y train: 987\n",
      "Cantidad clase positiva y test: 106\n"
     ]
    }
   ],
   "source": [
    "# Generamos el split de los datos\n",
    "x_train, x_test, y_train, y_test = train_test_split(\n",
    "    x_scaled, y, test_size=0.1, random_state=42\n",
    ")\n",
    "\n",
    "print(\"Shape X train:\", x_train.shape)\n",
    "print(\"Shape X test:\", x_test.shape)\n",
    "print(\"Shape y train:\", y_train.shape)\n",
    "print(\"Shape y test:\", y_test.shape)\n",
    "\n",
    "print(\"Cantidad clase positiva y train:\", y_train.sum())\n",
    "print(\"Cantidad clase positiva y test:\", y_test.sum())"
   ]
  },
  {
   "cell_type": "code",
   "execution_count": 16,
   "id": "4ec573df-f1a5-45d3-81e6-ec28fac12165",
   "metadata": {},
   "outputs": [],
   "source": [
    "# Generamos una lista para guardar los resultados de los distintos algoritmos utilizados\n",
    "score_df_list = []"
   ]
  },
  {
   "cell_type": "markdown",
   "id": "8ab0c081-acda-4353-8793-2ab73bc58323",
   "metadata": {},
   "source": [
    "##### Método 1: LassoCV"
   ]
  },
  {
   "cell_type": "code",
   "execution_count": 17,
   "id": "8236b413-0435-4d59-93b1-1b46104e664b",
   "metadata": {},
   "outputs": [
    {
     "data": {
      "text/html": [
       "<style>#sk-container-id-1 {color: black;}#sk-container-id-1 pre{padding: 0;}#sk-container-id-1 div.sk-toggleable {background-color: white;}#sk-container-id-1 label.sk-toggleable__label {cursor: pointer;display: block;width: 100%;margin-bottom: 0;padding: 0.3em;box-sizing: border-box;text-align: center;}#sk-container-id-1 label.sk-toggleable__label-arrow:before {content: \"▸\";float: left;margin-right: 0.25em;color: #696969;}#sk-container-id-1 label.sk-toggleable__label-arrow:hover:before {color: black;}#sk-container-id-1 div.sk-estimator:hover label.sk-toggleable__label-arrow:before {color: black;}#sk-container-id-1 div.sk-toggleable__content {max-height: 0;max-width: 0;overflow: hidden;text-align: left;background-color: #f0f8ff;}#sk-container-id-1 div.sk-toggleable__content pre {margin: 0.2em;color: black;border-radius: 0.25em;background-color: #f0f8ff;}#sk-container-id-1 input.sk-toggleable__control:checked~div.sk-toggleable__content {max-height: 200px;max-width: 100%;overflow: auto;}#sk-container-id-1 input.sk-toggleable__control:checked~label.sk-toggleable__label-arrow:before {content: \"▾\";}#sk-container-id-1 div.sk-estimator input.sk-toggleable__control:checked~label.sk-toggleable__label {background-color: #d4ebff;}#sk-container-id-1 div.sk-label input.sk-toggleable__control:checked~label.sk-toggleable__label {background-color: #d4ebff;}#sk-container-id-1 input.sk-hidden--visually {border: 0;clip: rect(1px 1px 1px 1px);clip: rect(1px, 1px, 1px, 1px);height: 1px;margin: -1px;overflow: hidden;padding: 0;position: absolute;width: 1px;}#sk-container-id-1 div.sk-estimator {font-family: monospace;background-color: #f0f8ff;border: 1px dotted black;border-radius: 0.25em;box-sizing: border-box;margin-bottom: 0.5em;}#sk-container-id-1 div.sk-estimator:hover {background-color: #d4ebff;}#sk-container-id-1 div.sk-parallel-item::after {content: \"\";width: 100%;border-bottom: 1px solid gray;flex-grow: 1;}#sk-container-id-1 div.sk-label:hover label.sk-toggleable__label {background-color: #d4ebff;}#sk-container-id-1 div.sk-serial::before {content: \"\";position: absolute;border-left: 1px solid gray;box-sizing: border-box;top: 0;bottom: 0;left: 50%;z-index: 0;}#sk-container-id-1 div.sk-serial {display: flex;flex-direction: column;align-items: center;background-color: white;padding-right: 0.2em;padding-left: 0.2em;position: relative;}#sk-container-id-1 div.sk-item {position: relative;z-index: 1;}#sk-container-id-1 div.sk-parallel {display: flex;align-items: stretch;justify-content: center;background-color: white;position: relative;}#sk-container-id-1 div.sk-item::before, #sk-container-id-1 div.sk-parallel-item::before {content: \"\";position: absolute;border-left: 1px solid gray;box-sizing: border-box;top: 0;bottom: 0;left: 50%;z-index: -1;}#sk-container-id-1 div.sk-parallel-item {display: flex;flex-direction: column;z-index: 1;position: relative;background-color: white;}#sk-container-id-1 div.sk-parallel-item:first-child::after {align-self: flex-end;width: 50%;}#sk-container-id-1 div.sk-parallel-item:last-child::after {align-self: flex-start;width: 50%;}#sk-container-id-1 div.sk-parallel-item:only-child::after {width: 0;}#sk-container-id-1 div.sk-dashed-wrapped {border: 1px dashed gray;margin: 0 0.4em 0.5em 0.4em;box-sizing: border-box;padding-bottom: 0.4em;background-color: white;}#sk-container-id-1 div.sk-label label {font-family: monospace;font-weight: bold;display: inline-block;line-height: 1.2em;}#sk-container-id-1 div.sk-label-container {text-align: center;}#sk-container-id-1 div.sk-container {/* jupyter's `normalize.less` sets `[hidden] { display: none; }` but bootstrap.min.css set `[hidden] { display: none !important; }` so we also need the `!important` here to be able to override the default hidden behavior on the sphinx rendered scikit-learn.org. See: https://github.com/scikit-learn/scikit-learn/issues/21755 */display: inline-block !important;position: relative;}#sk-container-id-1 div.sk-text-repr-fallback {display: none;}</style><div id=\"sk-container-id-1\" class=\"sk-top-container\"><div class=\"sk-text-repr-fallback\"><pre>LassoCV(cv=5)</pre><b>In a Jupyter environment, please rerun this cell to show the HTML representation or trust the notebook. <br />On GitHub, the HTML representation is unable to render, please try loading this page with nbviewer.org.</b></div><div class=\"sk-container\" hidden><div class=\"sk-item\"><div class=\"sk-estimator sk-toggleable\"><input class=\"sk-toggleable__control sk-hidden--visually\" id=\"sk-estimator-id-1\" type=\"checkbox\" checked><label for=\"sk-estimator-id-1\" class=\"sk-toggleable__label sk-toggleable__label-arrow\">LassoCV</label><div class=\"sk-toggleable__content\"><pre>LassoCV(cv=5)</pre></div></div></div></div></div>"
      ],
      "text/plain": [
       "LassoCV(cv=5)"
      ]
     },
     "execution_count": 17,
     "metadata": {},
     "output_type": "execute_result"
    }
   ],
   "source": [
    "# Entrenamos el modelo\n",
    "lasso_model = LassoCV(cv=5)\n",
    "lasso_model.fit(x_train, y_train)"
   ]
  },
  {
   "cell_type": "code",
   "execution_count": 18,
   "id": "69468e74-e015-4627-aecd-534ae7c4b6c4",
   "metadata": {},
   "outputs": [
    {
     "data": {
      "text/html": [
       "<div>\n",
       "<style scoped>\n",
       "    .dataframe tbody tr th:only-of-type {\n",
       "        vertical-align: middle;\n",
       "    }\n",
       "\n",
       "    .dataframe tbody tr th {\n",
       "        vertical-align: top;\n",
       "    }\n",
       "\n",
       "    .dataframe thead th {\n",
       "        text-align: right;\n",
       "    }\n",
       "</style>\n",
       "<table border=\"1\" class=\"dataframe\">\n",
       "  <thead>\n",
       "    <tr style=\"text-align: right;\">\n",
       "      <th></th>\n",
       "      <th>score_lasso</th>\n",
       "    </tr>\n",
       "  </thead>\n",
       "  <tbody>\n",
       "    <tr>\n",
       "      <th>businessAvgDiasMora</th>\n",
       "      <td>0.006442</td>\n",
       "    </tr>\n",
       "    <tr>\n",
       "      <th>businessNroFacturas</th>\n",
       "      <td>-0.036785</td>\n",
       "    </tr>\n",
       "    <tr>\n",
       "      <th>businessRatioMororsidad</th>\n",
       "      <td>0.050572</td>\n",
       "    </tr>\n",
       "    <tr>\n",
       "      <th>Clients12MonthsWsz</th>\n",
       "      <td>0.018137</td>\n",
       "    </tr>\n",
       "    <tr>\n",
       "      <th>diasActividadPagador</th>\n",
       "      <td>-0.087887</td>\n",
       "    </tr>\n",
       "  </tbody>\n",
       "</table>\n",
       "</div>"
      ],
      "text/plain": [
       "                         score_lasso\n",
       "businessAvgDiasMora         0.006442\n",
       "businessNroFacturas        -0.036785\n",
       "businessRatioMororsidad     0.050572\n",
       "Clients12MonthsWsz          0.018137\n",
       "diasActividadPagador       -0.087887"
      ]
     },
     "execution_count": 18,
     "metadata": {},
     "output_type": "execute_result"
    }
   ],
   "source": [
    "# Generamos los scores\n",
    "lasso_df = pd.DataFrame(lasso_model.coef_, index=x_train.columns).rename(\n",
    "    columns={0: \"score_lasso\"}\n",
    ")\n",
    "\n",
    "# Guardamos los resultados\n",
    "score_df_list.append(lasso_df)\n",
    "\n",
    "lasso_df.head()"
   ]
  },
  {
   "cell_type": "markdown",
   "id": "fefe0956-31e6-4e51-90fd-9b3b8d96efac",
   "metadata": {},
   "source": [
    "##### Método 2: RFE"
   ]
  },
  {
   "cell_type": "code",
   "execution_count": 19,
   "id": "9701c1bf-141c-4473-b99c-02eaf5324b01",
   "metadata": {},
   "outputs": [
    {
     "data": {
      "text/html": [
       "<style>#sk-container-id-2 {color: black;}#sk-container-id-2 pre{padding: 0;}#sk-container-id-2 div.sk-toggleable {background-color: white;}#sk-container-id-2 label.sk-toggleable__label {cursor: pointer;display: block;width: 100%;margin-bottom: 0;padding: 0.3em;box-sizing: border-box;text-align: center;}#sk-container-id-2 label.sk-toggleable__label-arrow:before {content: \"▸\";float: left;margin-right: 0.25em;color: #696969;}#sk-container-id-2 label.sk-toggleable__label-arrow:hover:before {color: black;}#sk-container-id-2 div.sk-estimator:hover label.sk-toggleable__label-arrow:before {color: black;}#sk-container-id-2 div.sk-toggleable__content {max-height: 0;max-width: 0;overflow: hidden;text-align: left;background-color: #f0f8ff;}#sk-container-id-2 div.sk-toggleable__content pre {margin: 0.2em;color: black;border-radius: 0.25em;background-color: #f0f8ff;}#sk-container-id-2 input.sk-toggleable__control:checked~div.sk-toggleable__content {max-height: 200px;max-width: 100%;overflow: auto;}#sk-container-id-2 input.sk-toggleable__control:checked~label.sk-toggleable__label-arrow:before {content: \"▾\";}#sk-container-id-2 div.sk-estimator input.sk-toggleable__control:checked~label.sk-toggleable__label {background-color: #d4ebff;}#sk-container-id-2 div.sk-label input.sk-toggleable__control:checked~label.sk-toggleable__label {background-color: #d4ebff;}#sk-container-id-2 input.sk-hidden--visually {border: 0;clip: rect(1px 1px 1px 1px);clip: rect(1px, 1px, 1px, 1px);height: 1px;margin: -1px;overflow: hidden;padding: 0;position: absolute;width: 1px;}#sk-container-id-2 div.sk-estimator {font-family: monospace;background-color: #f0f8ff;border: 1px dotted black;border-radius: 0.25em;box-sizing: border-box;margin-bottom: 0.5em;}#sk-container-id-2 div.sk-estimator:hover {background-color: #d4ebff;}#sk-container-id-2 div.sk-parallel-item::after {content: \"\";width: 100%;border-bottom: 1px solid gray;flex-grow: 1;}#sk-container-id-2 div.sk-label:hover label.sk-toggleable__label {background-color: #d4ebff;}#sk-container-id-2 div.sk-serial::before {content: \"\";position: absolute;border-left: 1px solid gray;box-sizing: border-box;top: 0;bottom: 0;left: 50%;z-index: 0;}#sk-container-id-2 div.sk-serial {display: flex;flex-direction: column;align-items: center;background-color: white;padding-right: 0.2em;padding-left: 0.2em;position: relative;}#sk-container-id-2 div.sk-item {position: relative;z-index: 1;}#sk-container-id-2 div.sk-parallel {display: flex;align-items: stretch;justify-content: center;background-color: white;position: relative;}#sk-container-id-2 div.sk-item::before, #sk-container-id-2 div.sk-parallel-item::before {content: \"\";position: absolute;border-left: 1px solid gray;box-sizing: border-box;top: 0;bottom: 0;left: 50%;z-index: -1;}#sk-container-id-2 div.sk-parallel-item {display: flex;flex-direction: column;z-index: 1;position: relative;background-color: white;}#sk-container-id-2 div.sk-parallel-item:first-child::after {align-self: flex-end;width: 50%;}#sk-container-id-2 div.sk-parallel-item:last-child::after {align-self: flex-start;width: 50%;}#sk-container-id-2 div.sk-parallel-item:only-child::after {width: 0;}#sk-container-id-2 div.sk-dashed-wrapped {border: 1px dashed gray;margin: 0 0.4em 0.5em 0.4em;box-sizing: border-box;padding-bottom: 0.4em;background-color: white;}#sk-container-id-2 div.sk-label label {font-family: monospace;font-weight: bold;display: inline-block;line-height: 1.2em;}#sk-container-id-2 div.sk-label-container {text-align: center;}#sk-container-id-2 div.sk-container {/* jupyter's `normalize.less` sets `[hidden] { display: none; }` but bootstrap.min.css set `[hidden] { display: none !important; }` so we also need the `!important` here to be able to override the default hidden behavior on the sphinx rendered scikit-learn.org. See: https://github.com/scikit-learn/scikit-learn/issues/21755 */display: inline-block !important;position: relative;}#sk-container-id-2 div.sk-text-repr-fallback {display: none;}</style><div id=\"sk-container-id-2\" class=\"sk-top-container\"><div class=\"sk-text-repr-fallback\"><pre>RFE(estimator=DecisionTreeClassifier(), n_features_to_select=2, step=15)</pre><b>In a Jupyter environment, please rerun this cell to show the HTML representation or trust the notebook. <br />On GitHub, the HTML representation is unable to render, please try loading this page with nbviewer.org.</b></div><div class=\"sk-container\" hidden><div class=\"sk-item sk-dashed-wrapped\"><div class=\"sk-label-container\"><div class=\"sk-label sk-toggleable\"><input class=\"sk-toggleable__control sk-hidden--visually\" id=\"sk-estimator-id-2\" type=\"checkbox\" ><label for=\"sk-estimator-id-2\" class=\"sk-toggleable__label sk-toggleable__label-arrow\">RFE</label><div class=\"sk-toggleable__content\"><pre>RFE(estimator=DecisionTreeClassifier(), n_features_to_select=2, step=15)</pre></div></div></div><div class=\"sk-parallel\"><div class=\"sk-parallel-item\"><div class=\"sk-item\"><div class=\"sk-label-container\"><div class=\"sk-label sk-toggleable\"><input class=\"sk-toggleable__control sk-hidden--visually\" id=\"sk-estimator-id-3\" type=\"checkbox\" ><label for=\"sk-estimator-id-3\" class=\"sk-toggleable__label sk-toggleable__label-arrow\">estimator: DecisionTreeClassifier</label><div class=\"sk-toggleable__content\"><pre>DecisionTreeClassifier()</pre></div></div></div><div class=\"sk-serial\"><div class=\"sk-item\"><div class=\"sk-estimator sk-toggleable\"><input class=\"sk-toggleable__control sk-hidden--visually\" id=\"sk-estimator-id-4\" type=\"checkbox\" ><label for=\"sk-estimator-id-4\" class=\"sk-toggleable__label sk-toggleable__label-arrow\">DecisionTreeClassifier</label><div class=\"sk-toggleable__content\"><pre>DecisionTreeClassifier()</pre></div></div></div></div></div></div></div></div></div></div>"
      ],
      "text/plain": [
       "RFE(estimator=DecisionTreeClassifier(), n_features_to_select=2, step=15)"
      ]
     },
     "execution_count": 19,
     "metadata": {},
     "output_type": "execute_result"
    }
   ],
   "source": [
    "# Entrenamos el modelo\n",
    "rfe_model = RFE(\n",
    "    estimator=DecisionTreeClassifier(), n_features_to_select=len(x_train.shape), step=15\n",
    ")\n",
    "rfe_model.fit(x_train, y_train)"
   ]
  },
  {
   "cell_type": "code",
   "execution_count": 20,
   "id": "ce858443-1406-4d64-b117-e5ba18aa6237",
   "metadata": {},
   "outputs": [
    {
     "data": {
      "text/html": [
       "<div>\n",
       "<style scoped>\n",
       "    .dataframe tbody tr th:only-of-type {\n",
       "        vertical-align: middle;\n",
       "    }\n",
       "\n",
       "    .dataframe tbody tr th {\n",
       "        vertical-align: top;\n",
       "    }\n",
       "\n",
       "    .dataframe thead th {\n",
       "        text-align: right;\n",
       "    }\n",
       "</style>\n",
       "<table border=\"1\" class=\"dataframe\">\n",
       "  <thead>\n",
       "    <tr style=\"text-align: right;\">\n",
       "      <th></th>\n",
       "      <th>rfe_score</th>\n",
       "    </tr>\n",
       "  </thead>\n",
       "  <tbody>\n",
       "    <tr>\n",
       "      <th>businessAvgDiasMora</th>\n",
       "      <td>2</td>\n",
       "    </tr>\n",
       "    <tr>\n",
       "      <th>businessNroFacturas</th>\n",
       "      <td>2</td>\n",
       "    </tr>\n",
       "    <tr>\n",
       "      <th>businessRatioMororsidad</th>\n",
       "      <td>2</td>\n",
       "    </tr>\n",
       "    <tr>\n",
       "      <th>Clients12MonthsWsz</th>\n",
       "      <td>2</td>\n",
       "    </tr>\n",
       "    <tr>\n",
       "      <th>diasActividadPagador</th>\n",
       "      <td>2</td>\n",
       "    </tr>\n",
       "  </tbody>\n",
       "</table>\n",
       "</div>"
      ],
      "text/plain": [
       "                         rfe_score\n",
       "businessAvgDiasMora              2\n",
       "businessNroFacturas              2\n",
       "businessRatioMororsidad          2\n",
       "Clients12MonthsWsz               2\n",
       "diasActividadPagador             2"
      ]
     },
     "execution_count": 20,
     "metadata": {},
     "output_type": "execute_result"
    }
   ],
   "source": [
    "# Generamos los scores\n",
    "rfe_df = pd.DataFrame(rfe_model.ranking_, index=x_train.columns).rename(\n",
    "    columns={0: \"rfe_score\"}\n",
    ")\n",
    "\n",
    "# Guardamos los resultados\n",
    "score_df_list.append(rfe_df)\n",
    "\n",
    "rfe_df.head()"
   ]
  },
  {
   "cell_type": "markdown",
   "id": "274043aa-aa1b-44b3-b11e-2fb88548e365",
   "metadata": {},
   "source": [
    "##### Feature Importance"
   ]
  },
  {
   "cell_type": "code",
   "execution_count": 21,
   "id": "61cb5fa2-c05c-41bf-8668-7696b17a3db4",
   "metadata": {},
   "outputs": [
    {
     "data": {
      "text/html": [
       "<style>#sk-container-id-3 {color: black;}#sk-container-id-3 pre{padding: 0;}#sk-container-id-3 div.sk-toggleable {background-color: white;}#sk-container-id-3 label.sk-toggleable__label {cursor: pointer;display: block;width: 100%;margin-bottom: 0;padding: 0.3em;box-sizing: border-box;text-align: center;}#sk-container-id-3 label.sk-toggleable__label-arrow:before {content: \"▸\";float: left;margin-right: 0.25em;color: #696969;}#sk-container-id-3 label.sk-toggleable__label-arrow:hover:before {color: black;}#sk-container-id-3 div.sk-estimator:hover label.sk-toggleable__label-arrow:before {color: black;}#sk-container-id-3 div.sk-toggleable__content {max-height: 0;max-width: 0;overflow: hidden;text-align: left;background-color: #f0f8ff;}#sk-container-id-3 div.sk-toggleable__content pre {margin: 0.2em;color: black;border-radius: 0.25em;background-color: #f0f8ff;}#sk-container-id-3 input.sk-toggleable__control:checked~div.sk-toggleable__content {max-height: 200px;max-width: 100%;overflow: auto;}#sk-container-id-3 input.sk-toggleable__control:checked~label.sk-toggleable__label-arrow:before {content: \"▾\";}#sk-container-id-3 div.sk-estimator input.sk-toggleable__control:checked~label.sk-toggleable__label {background-color: #d4ebff;}#sk-container-id-3 div.sk-label input.sk-toggleable__control:checked~label.sk-toggleable__label {background-color: #d4ebff;}#sk-container-id-3 input.sk-hidden--visually {border: 0;clip: rect(1px 1px 1px 1px);clip: rect(1px, 1px, 1px, 1px);height: 1px;margin: -1px;overflow: hidden;padding: 0;position: absolute;width: 1px;}#sk-container-id-3 div.sk-estimator {font-family: monospace;background-color: #f0f8ff;border: 1px dotted black;border-radius: 0.25em;box-sizing: border-box;margin-bottom: 0.5em;}#sk-container-id-3 div.sk-estimator:hover {background-color: #d4ebff;}#sk-container-id-3 div.sk-parallel-item::after {content: \"\";width: 100%;border-bottom: 1px solid gray;flex-grow: 1;}#sk-container-id-3 div.sk-label:hover label.sk-toggleable__label {background-color: #d4ebff;}#sk-container-id-3 div.sk-serial::before {content: \"\";position: absolute;border-left: 1px solid gray;box-sizing: border-box;top: 0;bottom: 0;left: 50%;z-index: 0;}#sk-container-id-3 div.sk-serial {display: flex;flex-direction: column;align-items: center;background-color: white;padding-right: 0.2em;padding-left: 0.2em;position: relative;}#sk-container-id-3 div.sk-item {position: relative;z-index: 1;}#sk-container-id-3 div.sk-parallel {display: flex;align-items: stretch;justify-content: center;background-color: white;position: relative;}#sk-container-id-3 div.sk-item::before, #sk-container-id-3 div.sk-parallel-item::before {content: \"\";position: absolute;border-left: 1px solid gray;box-sizing: border-box;top: 0;bottom: 0;left: 50%;z-index: -1;}#sk-container-id-3 div.sk-parallel-item {display: flex;flex-direction: column;z-index: 1;position: relative;background-color: white;}#sk-container-id-3 div.sk-parallel-item:first-child::after {align-self: flex-end;width: 50%;}#sk-container-id-3 div.sk-parallel-item:last-child::after {align-self: flex-start;width: 50%;}#sk-container-id-3 div.sk-parallel-item:only-child::after {width: 0;}#sk-container-id-3 div.sk-dashed-wrapped {border: 1px dashed gray;margin: 0 0.4em 0.5em 0.4em;box-sizing: border-box;padding-bottom: 0.4em;background-color: white;}#sk-container-id-3 div.sk-label label {font-family: monospace;font-weight: bold;display: inline-block;line-height: 1.2em;}#sk-container-id-3 div.sk-label-container {text-align: center;}#sk-container-id-3 div.sk-container {/* jupyter's `normalize.less` sets `[hidden] { display: none; }` but bootstrap.min.css set `[hidden] { display: none !important; }` so we also need the `!important` here to be able to override the default hidden behavior on the sphinx rendered scikit-learn.org. See: https://github.com/scikit-learn/scikit-learn/issues/21755 */display: inline-block !important;position: relative;}#sk-container-id-3 div.sk-text-repr-fallback {display: none;}</style><div id=\"sk-container-id-3\" class=\"sk-top-container\"><div class=\"sk-text-repr-fallback\"><pre>DecisionTreeClassifier(random_state=42)</pre><b>In a Jupyter environment, please rerun this cell to show the HTML representation or trust the notebook. <br />On GitHub, the HTML representation is unable to render, please try loading this page with nbviewer.org.</b></div><div class=\"sk-container\" hidden><div class=\"sk-item\"><div class=\"sk-estimator sk-toggleable\"><input class=\"sk-toggleable__control sk-hidden--visually\" id=\"sk-estimator-id-5\" type=\"checkbox\" checked><label for=\"sk-estimator-id-5\" class=\"sk-toggleable__label sk-toggleable__label-arrow\">DecisionTreeClassifier</label><div class=\"sk-toggleable__content\"><pre>DecisionTreeClassifier(random_state=42)</pre></div></div></div></div></div>"
      ],
      "text/plain": [
       "DecisionTreeClassifier(random_state=42)"
      ]
     },
     "execution_count": 21,
     "metadata": {},
     "output_type": "execute_result"
    }
   ],
   "source": [
    "# Entrenamos el modelo\n",
    "fi_model = DecisionTreeClassifier(random_state=42)\n",
    "fi_model.fit(x_train, y_train)"
   ]
  },
  {
   "cell_type": "code",
   "execution_count": 22,
   "id": "988c4403-17a4-40db-a9c1-cdeb7fb05cb3",
   "metadata": {},
   "outputs": [
    {
     "data": {
      "text/html": [
       "<div>\n",
       "<style scoped>\n",
       "    .dataframe tbody tr th:only-of-type {\n",
       "        vertical-align: middle;\n",
       "    }\n",
       "\n",
       "    .dataframe tbody tr th {\n",
       "        vertical-align: top;\n",
       "    }\n",
       "\n",
       "    .dataframe thead th {\n",
       "        text-align: right;\n",
       "    }\n",
       "</style>\n",
       "<table border=\"1\" class=\"dataframe\">\n",
       "  <thead>\n",
       "    <tr style=\"text-align: right;\">\n",
       "      <th></th>\n",
       "      <th>feature_importance</th>\n",
       "    </tr>\n",
       "  </thead>\n",
       "  <tbody>\n",
       "    <tr>\n",
       "      <th>businessAvgDiasMora</th>\n",
       "      <td>0.035076</td>\n",
       "    </tr>\n",
       "    <tr>\n",
       "      <th>businessNroFacturas</th>\n",
       "      <td>0.016763</td>\n",
       "    </tr>\n",
       "    <tr>\n",
       "      <th>businessRatioMororsidad</th>\n",
       "      <td>0.010807</td>\n",
       "    </tr>\n",
       "    <tr>\n",
       "      <th>Clients12MonthsWsz</th>\n",
       "      <td>0.049969</td>\n",
       "    </tr>\n",
       "    <tr>\n",
       "      <th>diasActividadPagador</th>\n",
       "      <td>0.097802</td>\n",
       "    </tr>\n",
       "  </tbody>\n",
       "</table>\n",
       "</div>"
      ],
      "text/plain": [
       "                         feature_importance\n",
       "businessAvgDiasMora                0.035076\n",
       "businessNroFacturas                0.016763\n",
       "businessRatioMororsidad            0.010807\n",
       "Clients12MonthsWsz                 0.049969\n",
       "diasActividadPagador               0.097802"
      ]
     },
     "execution_count": 22,
     "metadata": {},
     "output_type": "execute_result"
    }
   ],
   "source": [
    "# Generamos los scores\n",
    "fi_df = pd.DataFrame(fi_model.feature_importances_, index=x_train.columns).rename(\n",
    "    columns={0: \"feature_importance\"}\n",
    ")\n",
    "\n",
    "# Guardamos los datos\n",
    "score_df_list.append(fi_df)\n",
    "\n",
    "fi_df.head()"
   ]
  },
  {
   "cell_type": "markdown",
   "id": "582abd36-9ad2-47ac-939a-e9423829ff43",
   "metadata": {},
   "source": [
    "##### Generamos una tabla con el resumen de los metodos empleados"
   ]
  },
  {
   "cell_type": "code",
   "execution_count": 23,
   "id": "5f5fe099-97bd-43d6-a0e6-a127f91c1148",
   "metadata": {},
   "outputs": [
    {
     "data": {
      "text/html": [
       "<div>\n",
       "<style scoped>\n",
       "    .dataframe tbody tr th:only-of-type {\n",
       "        vertical-align: middle;\n",
       "    }\n",
       "\n",
       "    .dataframe tbody tr th {\n",
       "        vertical-align: top;\n",
       "    }\n",
       "\n",
       "    .dataframe thead th {\n",
       "        text-align: right;\n",
       "    }\n",
       "</style>\n",
       "<table border=\"1\" class=\"dataframe\">\n",
       "  <thead>\n",
       "    <tr style=\"text-align: right;\">\n",
       "      <th></th>\n",
       "      <th>score_lasso</th>\n",
       "      <th>rfe_score</th>\n",
       "      <th>feature_importance</th>\n",
       "    </tr>\n",
       "  </thead>\n",
       "  <tbody>\n",
       "    <tr>\n",
       "      <th>payerAvgDiasMora</th>\n",
       "      <td>0.041313</td>\n",
       "      <td>1</td>\n",
       "      <td>0.169175</td>\n",
       "    </tr>\n",
       "    <tr>\n",
       "      <th>relationDays</th>\n",
       "      <td>-0.041688</td>\n",
       "      <td>1</td>\n",
       "      <td>0.103012</td>\n",
       "    </tr>\n",
       "    <tr>\n",
       "      <th>diasActividadPagador</th>\n",
       "      <td>-0.087887</td>\n",
       "      <td>2</td>\n",
       "      <td>0.097802</td>\n",
       "    </tr>\n",
       "    <tr>\n",
       "      <th>payerRatioMorosidad</th>\n",
       "      <td>0.086448</td>\n",
       "      <td>2</td>\n",
       "      <td>0.087841</td>\n",
       "    </tr>\n",
       "    <tr>\n",
       "      <th>issuerCancelledInvoices</th>\n",
       "      <td>0.011413</td>\n",
       "      <td>2</td>\n",
       "      <td>0.082218</td>\n",
       "    </tr>\n",
       "    <tr>\n",
       "      <th>relationRecurrence</th>\n",
       "      <td>0.017703</td>\n",
       "      <td>2</td>\n",
       "      <td>0.073024</td>\n",
       "    </tr>\n",
       "    <tr>\n",
       "      <th>issuerInvoicesAmountWsz</th>\n",
       "      <td>-0.012461</td>\n",
       "      <td>2</td>\n",
       "      <td>0.067500</td>\n",
       "    </tr>\n",
       "    <tr>\n",
       "      <th>payerDesvAmount</th>\n",
       "      <td>0.025664</td>\n",
       "      <td>2</td>\n",
       "      <td>0.060280</td>\n",
       "    </tr>\n",
       "    <tr>\n",
       "      <th>montoFacturaWsz</th>\n",
       "      <td>0.000000</td>\n",
       "      <td>2</td>\n",
       "      <td>0.055307</td>\n",
       "    </tr>\n",
       "    <tr>\n",
       "      <th>Clients12MonthsWsz</th>\n",
       "      <td>0.018137</td>\n",
       "      <td>2</td>\n",
       "      <td>0.049969</td>\n",
       "    </tr>\n",
       "    <tr>\n",
       "      <th>payerAmountFacturas</th>\n",
       "      <td>0.069260</td>\n",
       "      <td>2</td>\n",
       "      <td>0.044613</td>\n",
       "    </tr>\n",
       "    <tr>\n",
       "      <th>businessAvgDiasMora</th>\n",
       "      <td>0.006442</td>\n",
       "      <td>2</td>\n",
       "      <td>0.035076</td>\n",
       "    </tr>\n",
       "    <tr>\n",
       "      <th>payerAvgAmountFacturas</th>\n",
       "      <td>-0.039944</td>\n",
       "      <td>2</td>\n",
       "      <td>0.029605</td>\n",
       "    </tr>\n",
       "    <tr>\n",
       "      <th>payerNroFacturas</th>\n",
       "      <td>-0.096309</td>\n",
       "      <td>2</td>\n",
       "      <td>0.017009</td>\n",
       "    </tr>\n",
       "    <tr>\n",
       "      <th>businessNroFacturas</th>\n",
       "      <td>-0.036785</td>\n",
       "      <td>2</td>\n",
       "      <td>0.016763</td>\n",
       "    </tr>\n",
       "    <tr>\n",
       "      <th>businessRatioMororsidad</th>\n",
       "      <td>0.050572</td>\n",
       "      <td>2</td>\n",
       "      <td>0.010807</td>\n",
       "    </tr>\n",
       "  </tbody>\n",
       "</table>\n",
       "</div>"
      ],
      "text/plain": [
       "                         score_lasso  rfe_score  feature_importance\n",
       "payerAvgDiasMora            0.041313          1            0.169175\n",
       "relationDays               -0.041688          1            0.103012\n",
       "diasActividadPagador       -0.087887          2            0.097802\n",
       "payerRatioMorosidad         0.086448          2            0.087841\n",
       "issuerCancelledInvoices     0.011413          2            0.082218\n",
       "relationRecurrence          0.017703          2            0.073024\n",
       "issuerInvoicesAmountWsz    -0.012461          2            0.067500\n",
       "payerDesvAmount             0.025664          2            0.060280\n",
       "montoFacturaWsz             0.000000          2            0.055307\n",
       "Clients12MonthsWsz          0.018137          2            0.049969\n",
       "payerAmountFacturas         0.069260          2            0.044613\n",
       "businessAvgDiasMora         0.006442          2            0.035076\n",
       "payerAvgAmountFacturas     -0.039944          2            0.029605\n",
       "payerNroFacturas           -0.096309          2            0.017009\n",
       "businessNroFacturas        -0.036785          2            0.016763\n",
       "businessRatioMororsidad     0.050572          2            0.010807"
      ]
     },
     "execution_count": 23,
     "metadata": {},
     "output_type": "execute_result"
    }
   ],
   "source": [
    "feature_selection_scores = pd.concat(score_df_list, axis=1).dropna()\n",
    "feature_selection_scores.sort_values(\"feature_importance\", ascending=False)"
   ]
  },
  {
   "cell_type": "code",
   "execution_count": 24,
   "id": "54a65925-fe99-40b8-9f22-16c28fdfbddc",
   "metadata": {},
   "outputs": [
    {
     "data": {
      "text/plain": [
       "(16, 3)"
      ]
     },
     "execution_count": 24,
     "metadata": {},
     "output_type": "execute_result"
    }
   ],
   "source": [
    "feature_selection_scores.shape"
   ]
  },
  {
   "cell_type": "markdown",
   "id": "e66fd8cc-b87a-4794-ab24-10c7dd8bdd3b",
   "metadata": {},
   "source": [
    "**Notas:**\n",
    "\n",
    "Dado el análisis realizado anteriormente, más lo observado en los métodos de selección de variables empleados vamos a quedarnos con las siguientes variables:\n",
    "\n",
    "- `invoiceId`\n",
    "- `relationDays`\n",
    "- `relationRecurrence`\n",
    "- `issuerCancelledInvoices`\n",
    "- `diasActividadPagador`\n",
    "- `facturaMorosa`\n",
    "- `montoFacturaWsz`\n",
    "- `issuerInvoicesAmountWsz`\n",
    "- `Clients12MonthsWsz`\n",
    "- `payerAmountFacturas`\n",
    "- `payerRatioMorosidad`\n",
    "- `payerAvgAmountFacturas`\n",
    "- `payerAvgDiasMora`\n",
    "- `payerDesvAmount`\n",
    "- `businessRatioMororsidad`\n",
    "- `businessAvgDiasMora`\n"
   ]
  },
  {
   "cell_type": "markdown",
   "id": "3a23ab55-1584-442b-af48-d3d34f26c256",
   "metadata": {},
   "source": [
    "### Guardado de datos"
   ]
  },
  {
   "cell_type": "code",
   "execution_count": 25,
   "id": "e84ba37a-8106-4d1d-8486-a65333d043a9",
   "metadata": {},
   "outputs": [
    {
     "data": {
      "text/plain": [
       "(2962, 18)"
      ]
     },
     "execution_count": 25,
     "metadata": {},
     "output_type": "execute_result"
    }
   ],
   "source": [
    "# Seleccionamos las columnas a utilizar\n",
    "columnas_seleccionadas = [\n",
    "    \"invoiceId\",\n",
    "    \"businessId\",\n",
    "    \"payerId\",\n",
    "    \"relationDays\",\n",
    "    \"relationRecurrence\",\n",
    "    \"issuerCancelledInvoices\",\n",
    "    \"diasActividadPagador\",\n",
    "    \"facturaMorosa\",\n",
    "    \"montoFacturaWsz\",\n",
    "    \"issuerInvoicesAmountWsz\",\n",
    "    \"Clients12MonthsWsz\",\n",
    "    \"payerAmountFacturas\",\n",
    "    \"payerRatioMorosidad\",\n",
    "    \"payerAvgAmountFacturas\",\n",
    "    \"payerAvgDiasMora\",\n",
    "    \"payerDesvAmount\",\n",
    "    \"businessRatioMororsidad\",\n",
    "    \"businessAvgDiasMora\",\n",
    "]\n",
    "\n",
    "df_final = df_final[columnas_seleccionadas].copy()\n",
    "df_final.shape"
   ]
  },
  {
   "cell_type": "code",
   "execution_count": 26,
   "id": "ae8e8ba9-a0e0-4daa-9229-ed5ae94a6f93",
   "metadata": {},
   "outputs": [],
   "source": [
    "df_final.to_csv(\"../data/processed/dataset_training_v0.csv\", index_label=False)"
   ]
  }
 ],
 "metadata": {
  "kernelspec": {
   "display_name": "Python 3 (ipykernel)",
   "language": "python",
   "name": "python3"
  },
  "language_info": {
   "codemirror_mode": {
    "name": "ipython",
    "version": 3
   },
   "file_extension": ".py",
   "mimetype": "text/x-python",
   "name": "python",
   "nbconvert_exporter": "python",
   "pygments_lexer": "ipython3",
   "version": "3.11.7"
  }
 },
 "nbformat": 4,
 "nbformat_minor": 5
}
